{
 "cells": [
  {
   "cell_type": "markdown",
   "metadata": {},
   "source": [
    "# Analysis of US Federal Election Data"
   ]
  },
  {
   "cell_type": "markdown",
   "metadata": {},
   "source": [
    "### ---------------DATA LOAD------------------"
   ]
  },
  {
   "cell_type": "markdown",
   "metadata": {},
   "source": [
    "#### We decide to wrangling our data before we normalize our dataset into tables. We have checked our data and found many unreasonable spots such as Null value, ridiculou large age, useless columns and unreasonable age range. We used Trifacta to wrangle our data. Following is our recipe:"
   ]
  },
  {
   "cell_type": "markdown",
   "metadata": {},
   "source": [
    "##### 1. Rename the columns.\n",
    "Note that we need to add header on before we do our project.\n",
    "##### 2. Delete the columns we don't need and includes too many NA or blank value in it. \n",
    "there is too many NA and missing value, we do not need that because that's not useful information. \n",
    "##### 3. Join the dateset with candidate master and all_cand by cand_id, with committee master by cmte_id and then add more colunms we need and integrate into the final dataset we need.\n",
    "We need to join our dataset in to one final dataset in order for better analyze. \n",
    "##### 4. delte some of mismatching value in the column.\n",
    "this is because some mismatch value will contain a mismatch problem with our dataset.\n",
    "##### 5. We decide to delete all the transaction is null value because that's not useful information. \n",
    "some transaction is null is not usfulful when we want to analyze the total transaction\n",
    "we do not need the value which is not match into ourdaset.\n",
    "##### 6. when we clean the data, we find the most large debt from trump is delete by mistake, so we add a value 11339279.2 from trump at column debts_owned_by. \n",
    "some value is missing because mismatch prime key, so delete some useful value, so we decide to add on this useful information.\n",
    "##### 7. run our final dataset into csv file and upload into our bucker so we can acess wget from the bucket. "
   ]
  },
  {
   "cell_type": "code",
   "execution_count": 1,
   "metadata": {},
   "outputs": [
    {
     "name": "stdout",
     "output_type": "stream",
     "text": [
      "--2020-12-08 16:46:27--  https://final6212.s3.amazonaws.com/all1_new.csv\n",
      "Resolving final6212.s3.amazonaws.com (final6212.s3.amazonaws.com)... 52.217.78.252\n",
      "Connecting to final6212.s3.amazonaws.com (final6212.s3.amazonaws.com)|52.217.78.252|:443... connected.\n",
      "HTTP request sent, awaiting response... 200 OK\n",
      "Length: 45193900 (43M) [text/csv]\n",
      "Saving to: ‘all1_new.csv’\n",
      "\n",
      "all1_new.csv        100%[===================>]  43.10M  83.4MB/s    in 0.5s    \n",
      "\n",
      "2020-12-08 16:46:28 (83.4 MB/s) - ‘all1_new.csv’ saved [45193900/45193900]\n",
      "\n"
     ]
    }
   ],
   "source": [
    "!wget https://final6212.s3.amazonaws.com/all1_new.csv"
   ]
  },
  {
   "cell_type": "code",
   "execution_count": 2,
   "metadata": {},
   "outputs": [
    {
     "name": "stdout",
     "output_type": "stream",
     "text": [
      "173886 all1_new.csv\n"
     ]
    }
   ],
   "source": [
    "!wc -l all1_new.csv"
   ]
  },
  {
   "cell_type": "code",
   "execution_count": 3,
   "metadata": {},
   "outputs": [
    {
     "name": "stdout",
     "output_type": "stream",
     "text": [
      "  1. \"CMTE_ID\"\n",
      "\n",
      "\tType of data:          Text\n",
      "\tContains null values:  False\n",
      "\tUnique values:         1124\n",
      "\tLongest value:         9 characters\n",
      "\tMost common values:    C00000935 (162x)\n",
      "\t                       C00238725 (153x)\n",
      "\t                       C00030718 (113x)\n",
      "\t                       C00732172 (108x)\n",
      "\t                       C00303024 (107x)\n",
      "\n",
      "  2. \"CMTE_NM\"\n",
      "\n",
      "\tType of data:          Text\n",
      "\tContains null values:  False\n",
      "\tUnique values:         1123\n",
      "\tLongest value:         174 characters\n",
      "\tMost common values:    DCCC (162x)\n",
      "\t                       NATIONAL AIR TRAFFIC CONTROLLERS ASSOCIATION PAC (153x)\n",
      "\t                       NATIONAL ASSOCIATION OF REALTORS POLITICAL ACTION COMMITTEE (113x)\n",
      "\t                       SAVE AMERICA FUND (108x)\n",
      "\t                       LOCKHEED MARTIN CORPORATION EMPLOYEES' POLITICAL ACTION COMMITTEE (107x)\n",
      "\n",
      "  3. \"CMTE_CITY\"\n",
      "\n",
      "\tType of data:          Text\n",
      "\tContains null values:  False\n",
      "\tUnique values:         326\n",
      "\tLongest value:         20 characters\n",
      "\tMost common values:    WASHINGTON (4548x)\n",
      "\t                       ARLINGTON (432x)\n",
      "\t                       ALEXANDRIA (423x)\n",
      "\t                       CHICAGO (222x)\n",
      "\t                       DALLAS (156x)\n",
      "\n",
      "  4. \"CMTE_ST\"\n",
      "\n",
      "\tType of data:          Text\n",
      "\tContains null values:  False\n",
      "\tUnique values:         44\n",
      "\tLongest value:         2 characters\n",
      "\tMost common values:    DC (4568x)\n",
      "\t                       VA (1338x)\n",
      "\t                       TX (570x)\n",
      "\t                       IL (436x)\n",
      "\t                       CA (359x)\n",
      "\n",
      "  5. \"CMTE_DSGN\"\n",
      "\n",
      "\tType of data:          Text\n",
      "\tContains null values:  False\n",
      "\tUnique values:         5\n",
      "\tLongest value:         1 characters\n",
      "\tMost common values:    B (7631x)\n",
      "\t                       U (2040x)\n",
      "\t                       D (186x)\n",
      "\t                       P (141x)\n",
      "\t                       A (1x)\n",
      "\n",
      "  6. \"ORG_TP\"\n",
      "\n",
      "\tType of data:          Text\n",
      "\tContains null values:  True (excluded from calculations)\n",
      "\tUnique values:         7\n",
      "\tLongest value:         1 characters\n",
      "\tMost common values:    C (3918x)\n",
      "\t                       T (2118x)\n",
      "\t                       M (1433x)\n",
      "\t                       None (1167x)\n",
      "\t                       L (1051x)\n",
      "\n",
      "  7. \"CAND_ID\"\n",
      "\n",
      "\tType of data:          Text\n",
      "\tContains null values:  False\n",
      "\tUnique values:         89\n",
      "\tLongest value:         9 characters\n",
      "\tMost common values:    S4IA00129 (819x)\n",
      "\t                       H6FL07140 (683x)\n",
      "\t                       S4SD00049 (522x)\n",
      "\t                       H8WI01156 (463x)\n",
      "\t                       H6TX15162 (379x)\n",
      "\n",
      "  8. \"ENTITY_TP\"\n",
      "\n",
      "\tType of data:          Text\n",
      "\tContains null values:  True (excluded from calculations)\n",
      "\tUnique values:         8\n",
      "\tLongest value:         3 characters\n",
      "\tMost common values:    CCM (8956x)\n",
      "\t                       ORG (594x)\n",
      "\t                       CAN (175x)\n",
      "\t                       PAC (66x)\n",
      "\t                       None (59x)\n",
      "\n",
      "  9. \"NAME\"\n",
      "\n",
      "\tType of data:          Text\n",
      "\tContains null values:  True (excluded from calculations)\n",
      "\tUnique values:         435\n",
      "\tLongest value:         77 characters\n",
      "\tMost common values:    JONI FOR IOWA (665x)\n",
      "\t                       STEPHANIE MURPHY FOR CONGRESS (663x)\n",
      "\t                       ROUNDS FOR SENATE (508x)\n",
      "\t                       STEIL FOR WISCONSIN, INC. (397x)\n",
      "\t                       VICENTE GONZALEZ FOR CONGRESS (368x)\n",
      "\n",
      " 10. \"TRANSACTION_DT\"\n",
      "\n",
      "\tType of data:          Number\n",
      "\tContains null values:  True (excluded from calculations)\n",
      "\tUnique values:         538\n",
      "\tSmallest value:        1012019\n",
      "\tLargest value:         12312019\n",
      "\tSum:                   64938147952\n",
      "\tMean:                  6508785.000702\n",
      "\tMedian:                6242020\n",
      "\tStDev:                 3043023.976079\n",
      "\tMost common values:    6252019 (101x)\n",
      "\t                       9242020 (75x)\n",
      "\t                       9252019 (75x)\n",
      "\t                       9232019 (73x)\n",
      "\t                       6242019 (71x)\n",
      "\n",
      " 11. \"TRANSACTION_AMT\"\n",
      "\n",
      "\tType of data:          Number\n",
      "\tContains null values:  False\n",
      "\tUnique values:         561\n",
      "\tSmallest value:        -5000\n",
      "\tLargest value:         3201973\n",
      "\tSum:                   57353692\n",
      "\tMean:                  5735.942794\n",
      "\tMedian:                1500\n",
      "\tStDev:                 67550.205478\n",
      "\tMost common values:    1000 (3855x)\n",
      "\t                       2500 (1888x)\n",
      "\t                       5000 (1023x)\n",
      "\t                       2000 (812x)\n",
      "\t                       1500 (673x)\n",
      "\n",
      " 12. \"CAND_NAME\"\n",
      "\n",
      "\tType of data:          Text\n",
      "\tContains null values:  False\n",
      "\tUnique values:         89\n",
      "\tLongest value:         26 characters\n",
      "\tMost common values:    ERNST, JONI K (819x)\n",
      "\t                       MURPHY, STEPHANIE (683x)\n",
      "\t                       ROUNDS, MIKE (522x)\n",
      "\t                       STEIL, BRYAN GEORGE (463x)\n",
      "\t                       GONZALEZ, VICENTE (379x)\n",
      "\n",
      " 13. \"CAND_PTY_AFFILIATION\"\n",
      "\n",
      "\tType of data:          Text\n",
      "\tContains null values:  False\n",
      "\tUnique values:         3\n",
      "\tLongest value:         3 characters\n",
      "\tMost common values:    REP (5702x)\n",
      "\t                       DEM (4278x)\n",
      "\t                       IND (19x)\n",
      "\n",
      " 14. \"TTL_RECEIPTS\"\n",
      "\n",
      "\tType of data:          Number\n",
      "\tContains null values:  False\n",
      "\tUnique values:         88\n",
      "\tSmallest value:        -246174.33\n",
      "\tLargest value:         90026046.63\n",
      "\tSum:                   67946190269.97\n",
      "\tMean:                  6795298.556853\n",
      "\tMedian:                2096789.8\n",
      "\tStDev:                 13386767.844542\n",
      "\tMost common values:    27544836.47 (819x)\n",
      "\t                       3144614.17 (683x)\n",
      "\t                       3657142.64 (522x)\n",
      "\t                       3246893.1 (463x)\n",
      "\t                       1257381.45 (379x)\n",
      "\n",
      " 15. \"COH_BOP\"\n",
      "\n",
      "\tType of data:          Number\n",
      "\tContains null values:  False\n",
      "\tUnique values:         55\n",
      "\tSmallest value:        0\n",
      "\tLargest value:         6483856.47\n",
      "\tSum:                   4683147227.63\n",
      "\tMean:                  468361.558919\n",
      "\tMedian:                149372.42\n",
      "\tStDev:                 631416.89922\n",
      "\tMost common values:    0 (861x)\n",
      "\t                       1363149.69 (819x)\n",
      "\t                       85873.33 (683x)\n",
      "\t                       511538.45 (522x)\n",
      "\t                       26355.7 (463x)\n",
      "\n",
      " 16. \"COH_COP\"\n",
      "\n",
      "\tType of data:          Number\n",
      "\tContains null values:  False\n",
      "\tUnique values:         76\n",
      "\tSmallest value:        -29113.16\n",
      "\tLargest value:         14751939.27\n",
      "\tSum:                   13025801019.54\n",
      "\tMean:                  1302710.372991\n",
      "\tMedian:                722596.7\n",
      "\tStDev:                 2344845.065068\n",
      "\tMost common values:    855405.54 (819x)\n",
      "\t                       1442379.85 (683x)\n",
      "\t                       1811012.16 (522x)\n",
      "\t                       514289.35 (463x)\n",
      "\t                       1423300.75 (379x)\n",
      "\n",
      " 17. \"CAND_LOANS\"\n",
      "\n",
      "\tType of data:          Number\n",
      "\tContains null values:  False\n",
      "\tUnique values:         26\n",
      "\tSmallest value:        0\n",
      "\tLargest value:         2227431\n",
      "\tSum:                   257197793.11\n",
      "\tMean:                  25722.351546\n",
      "\tMedian:                0\n",
      "\tStDev:                 131516.315385\n",
      "\tMost common values:    0 (9182x)\n",
      "\t                       288942.05 (308x)\n",
      "\t                       250000 (171x)\n",
      "\t                       285000 (120x)\n",
      "\t                       100000 (64x)\n",
      "\n",
      " 18. \"OTHER_LOANS\"\n",
      "\n",
      "\tType of data:          Number\n",
      "\tContains null values:  False\n",
      "\tUnique values:         4\n",
      "\tSmallest value:        0\n",
      "\tLargest value:         25000\n",
      "\tSum:                   720100\n",
      "\tMean:                  72.017202\n",
      "\tMedian:                0\n",
      "\tStDev:                 990.056101\n",
      "\tMost common values:    0 (9911x)\n",
      "\t                       5600 (75x)\n",
      "\t                       25000 (12x)\n",
      "\t                       100 (1x)\n",
      "\n",
      " 19. \"CAND_LOAN_REPAY\"\n",
      "\n",
      "\tType of data:          Number\n",
      "\tContains null values:  False\n",
      "\tUnique values:         21\n",
      "\tSmallest value:        0\n",
      "\tLargest value:         935000\n",
      "\tSum:                   335451769.26\n",
      "\tMean:                  33548.531779\n",
      "\tMedian:                0\n",
      "\tStDev:                 94268.365362\n",
      "\tMost common values:    0 (8319x)\n",
      "\t                       250000 (550x)\n",
      "\t                       25000 (330x)\n",
      "\t                       385100 (308x)\n",
      "\t                       76000 (281x)\n",
      "\n",
      " 20. \"OTHER_LOAN_REPAY\"\n",
      "\n",
      "\tType of data:          Number\n",
      "\tContains null values:  False\n",
      "\tUnique values:         4\n",
      "\tSmallest value:        0\n",
      "\tLargest value:         15000\n",
      "\tSum:                   185700\n",
      "\tMean:                  18.571857\n",
      "\tMedian:                0\n",
      "\tStDev:                 522.347289\n",
      "\tMost common values:    0 (9985x)\n",
      "\t                       15000 (12x)\n",
      "\t                       100 (1x)\n",
      "\t                       5600 (1x)\n",
      "\n",
      " 21. \"DEBTS_OWED_BY\"\n",
      "\n",
      "\tType of data:          Number\n",
      "\tContains null values:  False\n",
      "\tUnique values:         30\n",
      "\tSmallest value:        0\n",
      "\tLargest value:         2440875.39\n",
      "\tSum:                   542452756.6\n",
      "\tMean:                  54250.70073\n",
      "\tMedian:                0\n",
      "\tStDev:                 148668.687533\n",
      "\tMost common values:    0 (6594x)\n",
      "\t                       89437.99 (522x)\n",
      "\t                       250000 (387x)\n",
      "\t                       247800 (330x)\n",
      "\t                       387842.05 (308x)\n",
      "\n",
      " 22. \"TOTAL_LIABILITIES\"\n",
      "\n",
      "\tType of data:          Number\n",
      "\tContains null values:  False\n",
      "\tUnique values:         43\n",
      "\tSmallest value:        0\n",
      "\tLargest value:         4668306.39\n",
      "\tSum:                   800370649.71\n",
      "\tMean:                  80045.069478\n",
      "\tMedian:                0\n",
      "\tStDev:                 260846.002739\n",
      "\tMost common values:    0 (6241x)\n",
      "\t                       250000 (550x)\n",
      "\t                       89437.99 (522x)\n",
      "\t                       247800 (330x)\n",
      "\t                       676784.1 (308x)\n",
      "\n",
      " 23. \"TTL_INDIV_CONTRIB\"\n",
      "\n",
      "\tType of data:          Number\n",
      "\tContains null values:  False\n",
      "\tUnique values:         82\n",
      "\tSmallest value:        0\n",
      "\tLargest value:         87931707.58\n",
      "\tSum:                   53582124037.72\n",
      "\tMean:                  5358748.2786\n",
      "\tMedian:                1246681.68\n",
      "\tStDev:                 12637590.014317\n",
      "\tMost common values:    21696975.95 (819x)\n",
      "\t                       1246681.68 (683x)\n",
      "\t                       2062116.23 (522x)\n",
      "\t                       1843739.3 (463x)\n",
      "\t                       192433.25 (379x)\n",
      "\n",
      " 24. \"OTHER_POL_CMTE_CONTRIB\"\n",
      "\n",
      "\tType of data:          Number\n",
      "\tContains null values:  False\n",
      "\tUnique values:         73\n",
      "\tSmallest value:        0\n",
      "\tLargest value:         2721658.53\n",
      "\tSum:                   9622210804.8\n",
      "\tMean:                  962317.312211\n",
      "\tMedian:                848187.14\n",
      "\tStDev:                 697325.948455\n",
      "\tMost common values:    2721658.53 (819x)\n",
      "\t                       1765639.38 (683x)\n",
      "\t                       1490350 (522x)\n",
      "\t                       1161510.5 (463x)\n",
      "\t                       991559 (379x)\n",
      "\n",
      " 25. \"POL_PTY_CONTRIB\"\n",
      "\n",
      "\tType of data:          Number\n",
      "\tContains null values:  False\n",
      "\tUnique values:         24\n",
      "\tSmallest value:        0\n",
      "\tLargest value:         915000\n",
      "\tSum:                   80452626.19\n",
      "\tMean:                  8046.067226\n",
      "\tMedian:                53.5\n",
      "\tStDev:                 29495.731452\n",
      "\tMost common values:    0 (4592x)\n",
      "\t                       45850 (819x)\n",
      "\t                       2500 (684x)\n",
      "\t                       53.5 (463x)\n",
      "\t                       6088.4 (379x)\n",
      "\n",
      " 26. \"INDIV_REFUNDS\"\n",
      "\n",
      "\tType of data:          Number\n",
      "\tContains null values:  False\n",
      "\tUnique values:         63\n",
      "\tSmallest value:        -5400\n",
      "\tLargest value:         695661.71\n",
      "\tSum:                   411079410.72\n",
      "\tMean:                  41112.052277\n",
      "\tMedian:                8561.05\n",
      "\tStDev:                 97479.916087\n",
      "\tMost common values:    0 (1308x)\n",
      "\t                       98505.63 (819x)\n",
      "\t                       8561.05 (683x)\n",
      "\t                       35650 (522x)\n",
      "\t                       500 (467x)\n",
      "\n",
      " 27. \"CMTE_REFUNDS\"\n",
      "\n",
      "\tType of data:          Number\n",
      "\tContains null values:  False\n",
      "\tUnique values:         33\n",
      "\tSmallest value:        -20400\n",
      "\tLargest value:         69300\n",
      "\tSum:                   68689205.99\n",
      "\tMean:                  6869.60756\n",
      "\tMedian:                3800\n",
      "\tStDev:                 11597.055256\n",
      "\tMost common values:    0 (3190x)\n",
      "\t                       16500 (819x)\n",
      "\t                       7500 (738x)\n",
      "\t                       5686.63 (683x)\n",
      "\t                       5400 (522x)\n",
      "\n",
      " 28. \"CAND_ELECTION_YR\"\n",
      "\n",
      "\tType of data:          Number\n",
      "\tContains null values:  False\n",
      "\tUnique values:         7\n",
      "\tSmallest value:        2014\n",
      "\tLargest value:         2024\n",
      "\tSum:                   20199434\n",
      "\tMean:                  2020.145415\n",
      "\tMedian:                2020\n",
      "\tStDev:                 0.745498\n",
      "\tMost common values:    2020 (9462x)\n",
      "\t                       2024 (305x)\n",
      "\t                       2022 (169x)\n",
      "\t                       2018 (33x)\n",
      "\t                       2019 (28x)\n",
      "\n",
      " 29. \"CAND_OFFICE_ST\"\n",
      "\n",
      "\tType of data:          Text\n",
      "\tContains null values:  False\n",
      "\tUnique values:         35\n",
      "\tLongest value:         2 characters\n",
      "\tMost common values:    TX (1725x)\n",
      "\t                       CA (1448x)\n",
      "\t                       FL (886x)\n",
      "\t                       IA (880x)\n",
      "\t                       NJ (544x)\n",
      "\n",
      " 30. \"CAND_OFFICE\"\n",
      "\n",
      "\tType of data:          Text\n",
      "\tContains null values:  False\n",
      "\tUnique values:         2\n",
      "\tLongest value:         1 characters\n",
      "\tMost common values:    H (7715x)\n",
      "\t                       S (2284x)\n",
      "\n",
      " 31. \"CAND_OFFICE_DISTRICT\"\n",
      "\n",
      "\tType of data:          Number\n",
      "\tContains null values:  False\n",
      "\tUnique values:         27\n",
      "\tSmallest value:        0\n",
      "\tLargest value:         45\n",
      "\tSum:                   86049\n",
      "\tMean:                  8.605761\n",
      "\tMedian:                5\n",
      "\tStDev:                 11.034634\n",
      "\tMost common values:    0 (2400x)\n",
      "\t                       7 (1022x)\n",
      "\t                       1 (925x)\n",
      "\t                       2 (835x)\n",
      "\t                       4 (733x)\n",
      "\n",
      " 32. \"CAND_PCC\"\n",
      "\n",
      "\tType of data:          Text\n",
      "\tContains null values:  False\n",
      "\tUnique values:         89\n",
      "\tLongest value:         9 characters\n",
      "\tMost common values:    C00546788 (819x)\n",
      "\t                       C00620443 (683x)\n",
      "\t                       C00532465 (522x)\n",
      "\t                       C00677286 (463x)\n",
      "\t                       C00592659 (379x)\n",
      "\n",
      "Row count: 9999\n"
     ]
    }
   ],
   "source": [
    "!head -n 10000 all1_new.csv | csvstat"
   ]
  },
  {
   "cell_type": "code",
   "execution_count": 79,
   "metadata": {},
   "outputs": [
    {
     "name": "stdout",
     "output_type": "stream",
     "text": [
      "  1: CMTE_ID\n",
      "  2: CMTE_NM\n",
      "  3: CMTE_CITY\n",
      "  4: CMTE_ST\n",
      "  5: CMTE_DSGN\n",
      "  6: ORG_TP\n",
      "  7: CAND_ID\n",
      "  8: ENTITY_TP\n",
      "  9: NAME\n",
      " 10: TRANSACTION_DT\n",
      " 11: TRANSACTION_AMT\n",
      " 12: CAND_NAME\n",
      " 13: CAND_PTY_AFFILIATION\n",
      " 14: TTL_RECEIPTS\n",
      " 15: COH_BOP\n",
      " 16: COH_COP\n",
      " 17: CAND_LOANS\n",
      " 18: OTHER_LOANS\n",
      " 19: CAND_LOAN_REPAY\n",
      " 20: OTHER_LOAN_REPAY\n",
      " 21: DEBTS_OWED_BY\n",
      " 22: TOTAL_LIABILITIES\n",
      " 23: TTL_INDIV_CONTRIB\n",
      " 24: OTHER_POL_CMTE_CONTRIB\n",
      " 25: POL_PTY_CONTRIB\n",
      " 26: INDIV_REFUNDS\n",
      " 27: CMTE_REFUNDS\n",
      " 28: CAND_ELECTION_YR\n",
      " 29: CAND_OFFICE_ST\n",
      " 30: CAND_OFFICE\n",
      " 31: CAND_OFFICE_DISTRICT\n",
      " 32: CAND_PCC\n"
     ]
    }
   ],
   "source": [
    "!csvcut -n all1_new.csv"
   ]
  },
  {
   "cell_type": "markdown",
   "metadata": {},
   "source": [
    "## --------------Schema (Dimensional Model)-----------------"
   ]
  },
  {
   "cell_type": "code",
   "execution_count": 136,
   "metadata": {},
   "outputs": [],
   "source": [
    "from IPython.display import Image"
   ]
  },
  {
   "cell_type": "code",
   "execution_count": 134,
   "metadata": {},
   "outputs": [
    {
     "data": {
      "text/html": [
       "<img src=\"https://final6212.s3.amazonaws.com/schema.png\"/>"
      ],
      "text/plain": [
       "<IPython.core.display.Image object>"
      ]
     },
     "execution_count": 134,
     "metadata": {},
     "output_type": "execute_result"
    }
   ],
   "source": [
    "Image(url=\"https://final6212.s3.amazonaws.com/schema.png\")"
   ]
  },
  {
   "cell_type": "markdown",
   "metadata": {},
   "source": [
    "## ---------------SQL tables-----------------"
   ]
  },
  {
   "cell_type": "markdown",
   "metadata": {},
   "source": [
    "* let create a big table with all the attribute we need from file we updated into the bucket."
   ]
  },
  {
   "cell_type": "code",
   "execution_count": 2,
   "metadata": {},
   "outputs": [],
   "source": [
    "!dropdb -U student final"
   ]
  },
  {
   "cell_type": "code",
   "execution_count": 3,
   "metadata": {},
   "outputs": [],
   "source": [
    "!createdb -U student final"
   ]
  },
  {
   "cell_type": "code",
   "execution_count": 4,
   "metadata": {},
   "outputs": [],
   "source": [
    "%load_ext sql"
   ]
  },
  {
   "cell_type": "code",
   "execution_count": 5,
   "metadata": {},
   "outputs": [],
   "source": [
    "%sql postgresql://student@/final"
   ]
  },
  {
   "cell_type": "code",
   "execution_count": 80,
   "metadata": {},
   "outputs": [
    {
     "name": "stdout",
     "output_type": "stream",
     "text": [
      " * postgresql://student@/final\n",
      "Done.\n",
      "Done.\n"
     ]
    },
    {
     "data": {
      "text/plain": [
       "[]"
      ]
     },
     "execution_count": 80,
     "metadata": {},
     "output_type": "execute_result"
    }
   ],
   "source": [
    "%%sql\n",
    "DROP TABLE IF EXISTS election2020 cascade;\n",
    "\n",
    "CREATE TABLE election2020 (\n",
    "CMTE_ID varchar(9) NOT NULL,\n",
    "CMTE_NM VARCHAR(200) NULL,\n",
    "CMTE_CITY VARCHAR(30) NULL,\n",
    "CMTE_ST VARCHAR(2) NULL,\n",
    "CMTE_DSGN VARCHAR(1) NULL,\n",
    "ORG_TP VARCHAR(1) NULL,\n",
    "CAND_ID VARCHAR(9) NOT NULL,\n",
    "ENTITY_TP VARCHAR (3) NULL,\n",
    "CONT_NAME VARCHAR (200) NULL,\n",
    "TRANSACTION_DT VARCHAR(10) NULL,\n",
    "TRANSACTION_AMT NUMERIC(30) NULL,\n",
    "CAND_NAME VARCHAR(200) NULL,\n",
    "CAND_PTY_AFFILIATION VARCHAR(3) NULL,\n",
    "TTL_RECEIPTS NUMERIC(14,2) NULL,\n",
    "COH_BOP NUMERIC(14,2) NULL,\n",
    "COH_COP NUMERIC(14,2) NULL,\n",
    "CAND_LOANS NUMERIC(14,2) NULL,\n",
    "OTHER_LOANS NUMERIC(14,2) NULL,\n",
    "CAND_LOAN_REPAY NUMERIC(14,2) NULL,\n",
    "OTHER_LOAN_REPAY NUMERIC(14,2) NULL,\n",
    "DEBTS_OWED_BY NUMERIC(14,2) NULL,\n",
    "TOTAL_LIABILITIES NUMERIC(14,2) NULL,\n",
    "TTL_INDIV_CONTRIB NUMERIC(14,2) NULL, \n",
    "OTHER_POL_CMTE_CONTRIB  NUMERIC(14,2) NULL,\n",
    "POL_PTY_CONTRIB NUMERIC(14,2) NULL, \n",
    "INDIV_REFUNDS NUMERIC(14,2) NULL,\n",
    "CMTE_REFUNDS NUMERIC(14,2) NULL, \n",
    "CAND_ELECTION_YR varchar(4) NULL,\n",
    "CAND_OFFICE_ST VARCHAR(2) NULL,\n",
    "CAND_OFFICE VARCHAR(1) NULL,\n",
    "CAND_OFFICE_DISTRICT VARCHAR(2),\n",
    "CAND_PCC VARCHAR(9) NULL\n",
    ")"
   ]
  },
  {
   "cell_type": "markdown",
   "metadata": {},
   "source": [
    "* Insert the prepared data into the table"
   ]
  },
  {
   "cell_type": "code",
   "execution_count": 81,
   "metadata": {},
   "outputs": [
    {
     "name": "stdout",
     "output_type": "stream",
     "text": [
      " * postgresql://student@/final\n",
      "173885 rows affected.\n"
     ]
    },
    {
     "data": {
      "text/plain": [
       "[]"
      ]
     },
     "execution_count": 81,
     "metadata": {},
     "output_type": "execute_result"
    }
   ],
   "source": [
    "%%sql\n",
    "copy election2020\n",
    "from '/home/ubuntu/all1_new.csv'\n",
    "CSV\n",
    "HEADER;"
   ]
  },
  {
   "cell_type": "code",
   "execution_count": 82,
   "metadata": {},
   "outputs": [
    {
     "name": "stdout",
     "output_type": "stream",
     "text": [
      " * postgresql://student@/final\n",
      "3 rows affected.\n"
     ]
    },
    {
     "data": {
      "text/html": [
       "<table>\n",
       "    <tr>\n",
       "        <th>cmte_id</th>\n",
       "        <th>cmte_nm</th>\n",
       "        <th>cmte_city</th>\n",
       "        <th>cmte_st</th>\n",
       "        <th>cmte_dsgn</th>\n",
       "        <th>org_tp</th>\n",
       "        <th>cand_id</th>\n",
       "        <th>entity_tp</th>\n",
       "        <th>cont_name</th>\n",
       "        <th>transaction_dt</th>\n",
       "        <th>transaction_amt</th>\n",
       "        <th>cand_name</th>\n",
       "        <th>cand_pty_affiliation</th>\n",
       "        <th>ttl_receipts</th>\n",
       "        <th>coh_bop</th>\n",
       "        <th>coh_cop</th>\n",
       "        <th>cand_loans</th>\n",
       "        <th>other_loans</th>\n",
       "        <th>cand_loan_repay</th>\n",
       "        <th>other_loan_repay</th>\n",
       "        <th>debts_owed_by</th>\n",
       "        <th>total_liabilities</th>\n",
       "        <th>ttl_indiv_contrib</th>\n",
       "        <th>other_pol_cmte_contrib</th>\n",
       "        <th>pol_pty_contrib</th>\n",
       "        <th>indiv_refunds</th>\n",
       "        <th>cmte_refunds</th>\n",
       "        <th>cand_election_yr</th>\n",
       "        <th>cand_office_st</th>\n",
       "        <th>cand_office</th>\n",
       "        <th>cand_office_district</th>\n",
       "        <th>cand_pcc</th>\n",
       "    </tr>\n",
       "    <tr>\n",
       "        <td>C00379628</td>\n",
       "        <td>NUCOR CORPORATION POLITICAL ACTION COMMITTEE</td>\n",
       "        <td>CHARLOTTE</td>\n",
       "        <td>NC</td>\n",
       "        <td>U</td>\n",
       "        <td>C</td>\n",
       "        <td>H0AL05163</td>\n",
       "        <td>CCM</td>\n",
       "        <td>MO BROOKS FOR CONGRESS</td>\n",
       "        <td>3272019</td>\n",
       "        <td>2500</td>\n",
       "        <td>BROOKS, MO</td>\n",
       "        <td>REP</td>\n",
       "        <td>634450.11</td>\n",
       "        <td>692181.51</td>\n",
       "        <td>1114335.09</td>\n",
       "        <td>0.00</td>\n",
       "        <td>0.00</td>\n",
       "        <td>0.00</td>\n",
       "        <td>0.00</td>\n",
       "        <td>0.00</td>\n",
       "        <td>0.00</td>\n",
       "        <td>382816.54</td>\n",
       "        <td>250020.00</td>\n",
       "        <td>0.00</td>\n",
       "        <td>8000.00</td>\n",
       "        <td>0.00</td>\n",
       "        <td>2020</td>\n",
       "        <td>AL</td>\n",
       "        <td>H</td>\n",
       "        <td>5</td>\n",
       "        <td>C00464149</td>\n",
       "    </tr>\n",
       "    <tr>\n",
       "        <td>C00365502</td>\n",
       "        <td>BWX TECHNOLOGIES, INC POLITICAL ACTION COMMITTEE</td>\n",
       "        <td>LYNCHBURG</td>\n",
       "        <td>VA</td>\n",
       "        <td>B</td>\n",
       "        <td>C</td>\n",
       "        <td>H0AL05163</td>\n",
       "        <td>CCM</td>\n",
       "        <td>MOBROOKSFORCONGRESS.COM</td>\n",
       "        <td>4162019</td>\n",
       "        <td>1000</td>\n",
       "        <td>BROOKS, MO</td>\n",
       "        <td>REP</td>\n",
       "        <td>634450.11</td>\n",
       "        <td>692181.51</td>\n",
       "        <td>1114335.09</td>\n",
       "        <td>0.00</td>\n",
       "        <td>0.00</td>\n",
       "        <td>0.00</td>\n",
       "        <td>0.00</td>\n",
       "        <td>0.00</td>\n",
       "        <td>0.00</td>\n",
       "        <td>382816.54</td>\n",
       "        <td>250020.00</td>\n",
       "        <td>0.00</td>\n",
       "        <td>8000.00</td>\n",
       "        <td>0.00</td>\n",
       "        <td>2020</td>\n",
       "        <td>AL</td>\n",
       "        <td>H</td>\n",
       "        <td>5</td>\n",
       "        <td>C00464149</td>\n",
       "    </tr>\n",
       "    <tr>\n",
       "        <td>C00300418</td>\n",
       "        <td>SCIENCE APPLICATIONS INTERNATIONAL CORPORATION VOLUNTARY POLITICAL ACTION COMMITTEE</td>\n",
       "        <td>RESTON</td>\n",
       "        <td>VA</td>\n",
       "        <td>B</td>\n",
       "        <td>C</td>\n",
       "        <td>H0AL05163</td>\n",
       "        <td>CCM</td>\n",
       "        <td>MO BROOKS FOR CONGRESS</td>\n",
       "        <td>4182019</td>\n",
       "        <td>1000</td>\n",
       "        <td>BROOKS, MO</td>\n",
       "        <td>REP</td>\n",
       "        <td>634450.11</td>\n",
       "        <td>692181.51</td>\n",
       "        <td>1114335.09</td>\n",
       "        <td>0.00</td>\n",
       "        <td>0.00</td>\n",
       "        <td>0.00</td>\n",
       "        <td>0.00</td>\n",
       "        <td>0.00</td>\n",
       "        <td>0.00</td>\n",
       "        <td>382816.54</td>\n",
       "        <td>250020.00</td>\n",
       "        <td>0.00</td>\n",
       "        <td>8000.00</td>\n",
       "        <td>0.00</td>\n",
       "        <td>2020</td>\n",
       "        <td>AL</td>\n",
       "        <td>H</td>\n",
       "        <td>5</td>\n",
       "        <td>C00464149</td>\n",
       "    </tr>\n",
       "</table>"
      ],
      "text/plain": [
       "[('C00379628', 'NUCOR CORPORATION POLITICAL ACTION COMMITTEE', 'CHARLOTTE', 'NC', 'U', 'C', 'H0AL05163', 'CCM', 'MO BROOKS FOR CONGRESS', '3272019', Decimal('2500'), 'BROOKS, MO', 'REP', Decimal('634450.11'), Decimal('692181.51'), Decimal('1114335.09'), Decimal('0.00'), Decimal('0.00'), Decimal('0.00'), Decimal('0.00'), Decimal('0.00'), Decimal('0.00'), Decimal('382816.54'), Decimal('250020.00'), Decimal('0.00'), Decimal('8000.00'), Decimal('0.00'), '2020', 'AL', 'H', '5', 'C00464149'),\n",
       " ('C00365502', 'BWX TECHNOLOGIES, INC POLITICAL ACTION COMMITTEE', 'LYNCHBURG', 'VA', 'B', 'C', 'H0AL05163', 'CCM', 'MOBROOKSFORCONGRESS.COM', '4162019', Decimal('1000'), 'BROOKS, MO', 'REP', Decimal('634450.11'), Decimal('692181.51'), Decimal('1114335.09'), Decimal('0.00'), Decimal('0.00'), Decimal('0.00'), Decimal('0.00'), Decimal('0.00'), Decimal('0.00'), Decimal('382816.54'), Decimal('250020.00'), Decimal('0.00'), Decimal('8000.00'), Decimal('0.00'), '2020', 'AL', 'H', '5', 'C00464149'),\n",
       " ('C00300418', 'SCIENCE APPLICATIONS INTERNATIONAL CORPORATION VOLUNTARY POLITICAL ACTION COMMITTEE', 'RESTON', 'VA', 'B', 'C', 'H0AL05163', 'CCM', 'MO BROOKS FOR CONGRESS', '4182019', Decimal('1000'), 'BROOKS, MO', 'REP', Decimal('634450.11'), Decimal('692181.51'), Decimal('1114335.09'), Decimal('0.00'), Decimal('0.00'), Decimal('0.00'), Decimal('0.00'), Decimal('0.00'), Decimal('0.00'), Decimal('382816.54'), Decimal('250020.00'), Decimal('0.00'), Decimal('8000.00'), Decimal('0.00'), '2020', 'AL', 'H', '5', 'C00464149')]"
      ]
     },
     "execution_count": 82,
     "metadata": {},
     "output_type": "execute_result"
    }
   ],
   "source": [
    "%%sql\n",
    "SELECT * \n",
    "FROM election2020\n",
    "LIMIT 3"
   ]
  },
  {
   "cell_type": "markdown",
   "metadata": {},
   "source": [
    "* The number of the distinct state in the table is over 50"
   ]
  },
  {
   "cell_type": "code",
   "execution_count": 83,
   "metadata": {},
   "outputs": [
    {
     "name": "stdout",
     "output_type": "stream",
     "text": [
      " * postgresql://student@/final\n",
      "1 rows affected.\n"
     ]
    },
    {
     "data": {
      "text/html": [
       "<table>\n",
       "    <tr>\n",
       "        <th>count</th>\n",
       "    </tr>\n",
       "    <tr>\n",
       "        <td>51</td>\n",
       "    </tr>\n",
       "</table>"
      ],
      "text/plain": [
       "[(51,)]"
      ]
     },
     "execution_count": 83,
     "metadata": {},
     "output_type": "execute_result"
    }
   ],
   "source": [
    "%%sql\n",
    "SELECT COUNT(DISTINCT cmte_st)\n",
    "FROM election2020"
   ]
  },
  {
   "cell_type": "markdown",
   "metadata": {},
   "source": [
    "* Change the data not matched to the 50 states and \"DC\" of the US to NULL value"
   ]
  },
  {
   "cell_type": "code",
   "execution_count": 84,
   "metadata": {},
   "outputs": [
    {
     "name": "stdout",
     "output_type": "stream",
     "text": [
      " * postgresql://student@/final\n",
      "0 rows affected.\n"
     ]
    },
    {
     "data": {
      "text/plain": [
       "[]"
      ]
     },
     "execution_count": 84,
     "metadata": {},
     "output_type": "execute_result"
    }
   ],
   "source": [
    "%%sql\n",
    "\n",
    "DELETE FROM election2020\n",
    "WHERE UPPER(cmte_st) NOT IN ('AK', 'AL', 'AR','AZ','CA','CO','CT','DE','DC','FL','GA','HI','IA','ID','IL','IN','KS',\n",
    "                           'KY','LA','MA','MD','ME','MI','MN','MO','MS','MT','NC','ND','NE','NH','NJ','NM',\n",
    "                           'NV','NY','OH','OK','OR','PA','RI','SC','SD','TN','TX','UT','VA','VT','WA','WI','WV','WY');"
   ]
  },
  {
   "cell_type": "markdown",
   "metadata": {},
   "source": [
    "* The distinct state data has decreased to 51 (including DC)"
   ]
  },
  {
   "cell_type": "code",
   "execution_count": 85,
   "metadata": {},
   "outputs": [
    {
     "name": "stdout",
     "output_type": "stream",
     "text": [
      " * postgresql://student@/final\n",
      "1 rows affected.\n"
     ]
    },
    {
     "data": {
      "text/html": [
       "<table>\n",
       "    <tr>\n",
       "        <th>count</th>\n",
       "    </tr>\n",
       "    <tr>\n",
       "        <td>51</td>\n",
       "    </tr>\n",
       "</table>"
      ],
      "text/plain": [
       "[(51,)]"
      ]
     },
     "execution_count": 85,
     "metadata": {},
     "output_type": "execute_result"
    }
   ],
   "source": [
    "%%sql\n",
    "SELECT COUNT(DISTINCT cmte_st)\n",
    "FROM election2020"
   ]
  },
  {
   "cell_type": "markdown",
   "metadata": {},
   "source": [
    "## ------------------DIMENSION/FACT TABLES--------------------"
   ]
  },
  {
   "cell_type": "markdown",
   "metadata": {},
   "source": [
    "### DATE dimension "
   ]
  },
  {
   "cell_type": "code",
   "execution_count": 86,
   "metadata": {},
   "outputs": [
    {
     "name": "stdout",
     "output_type": "stream",
     "text": [
      " * postgresql://student@/final\n",
      "Done.\n",
      "Done.\n"
     ]
    },
    {
     "data": {
      "text/plain": [
       "[]"
      ]
     },
     "execution_count": 86,
     "metadata": {},
     "output_type": "execute_result"
    }
   ],
   "source": [
    "%%sql\n",
    "DROP TABLE IF EXISTS date;\n",
    "\n",
    "CREATE TABLE date (\n",
    "    key SERIAL PRIMARY KEY,\n",
    "    full_date VARCHAR(8),\n",
    "    day VARCHAR(2),\n",
    "    month VARCHAR(2),\n",
    "    year VARCHAR(4)\n",
    ");"
   ]
  },
  {
   "cell_type": "code",
   "execution_count": 87,
   "metadata": {},
   "outputs": [
    {
     "name": "stdout",
     "output_type": "stream",
     "text": [
      " * postgresql://student@/final\n",
      "697 rows affected.\n"
     ]
    },
    {
     "data": {
      "text/plain": [
       "[]"
      ]
     },
     "execution_count": 87,
     "metadata": {},
     "output_type": "execute_result"
    }
   ],
   "source": [
    "%%sql\n",
    "INSERT INTO date(full_date, day, month, year)\n",
    "SELECT DISTINCT transaction_dt,\n",
    "SUBSTRING(transaction_dt,3,2),\n",
    "SUBSTRING(transaction_dt,1,2),\n",
    "SUBSTRING(transaction_dt,5,4) \n",
    "FROM election2020;"
   ]
  },
  {
   "cell_type": "code",
   "execution_count": 88,
   "metadata": {},
   "outputs": [
    {
     "name": "stdout",
     "output_type": "stream",
     "text": [
      " * postgresql://student@/final\n",
      "5 rows affected.\n"
     ]
    },
    {
     "data": {
      "text/html": [
       "<table>\n",
       "    <tr>\n",
       "        <th>key</th>\n",
       "        <th>full_date</th>\n",
       "        <th>day</th>\n",
       "        <th>month</th>\n",
       "        <th>year</th>\n",
       "    </tr>\n",
       "    <tr>\n",
       "        <td>1</td>\n",
       "        <td>10302019</td>\n",
       "        <td>30</td>\n",
       "        <td>10</td>\n",
       "        <td>2019</td>\n",
       "    </tr>\n",
       "    <tr>\n",
       "        <td>2</td>\n",
       "        <td>7182020</td>\n",
       "        <td>82</td>\n",
       "        <td>71</td>\n",
       "        <td>020</td>\n",
       "    </tr>\n",
       "    <tr>\n",
       "        <td>3</td>\n",
       "        <td>None</td>\n",
       "        <td>None</td>\n",
       "        <td>None</td>\n",
       "        <td>None</td>\n",
       "    </tr>\n",
       "    <tr>\n",
       "        <td>4</td>\n",
       "        <td>10272020</td>\n",
       "        <td>27</td>\n",
       "        <td>10</td>\n",
       "        <td>2020</td>\n",
       "    </tr>\n",
       "    <tr>\n",
       "        <td>5</td>\n",
       "        <td>8262020</td>\n",
       "        <td>62</td>\n",
       "        <td>82</td>\n",
       "        <td>020</td>\n",
       "    </tr>\n",
       "</table>"
      ],
      "text/plain": [
       "[(1, '10302019', '30', '10', '2019'),\n",
       " (2, '7182020', '82', '71', '020'),\n",
       " (3, None, None, None, None),\n",
       " (4, '10272020', '27', '10', '2020'),\n",
       " (5, '8262020', '62', '82', '020')]"
      ]
     },
     "execution_count": 88,
     "metadata": {},
     "output_type": "execute_result"
    }
   ],
   "source": [
    "%%sql\n",
    "SELECT * \n",
    "FROM date\n",
    "limit 5"
   ]
  },
  {
   "cell_type": "markdown",
   "metadata": {},
   "source": [
    "### Location Dimension"
   ]
  },
  {
   "cell_type": "code",
   "execution_count": 89,
   "metadata": {},
   "outputs": [
    {
     "name": "stdout",
     "output_type": "stream",
     "text": [
      " * postgresql://student@/final\n",
      "Done.\n",
      "Done.\n"
     ]
    },
    {
     "data": {
      "text/plain": [
       "[]"
      ]
     },
     "execution_count": 89,
     "metadata": {},
     "output_type": "execute_result"
    }
   ],
   "source": [
    "%%sql\n",
    "DROP TABLE IF EXISTS location;\n",
    "\n",
    "CREATE TABLE location (\n",
    "    key SERIAL PRIMARY KEY,\n",
    "    cmte_city VARCHAR(30),\n",
    "    cmte_state VARCHAR(2),\n",
    "    cand_office_st VARCHAR(2) NULL\n",
    ");"
   ]
  },
  {
   "cell_type": "code",
   "execution_count": 90,
   "metadata": {},
   "outputs": [
    {
     "name": "stdout",
     "output_type": "stream",
     "text": [
      " * postgresql://student@/final\n",
      "9685 rows affected.\n"
     ]
    },
    {
     "data": {
      "text/plain": [
       "[]"
      ]
     },
     "execution_count": 90,
     "metadata": {},
     "output_type": "execute_result"
    }
   ],
   "source": [
    "%%sql\n",
    "INSERT INTO location(cmte_city, cmte_state,CAND_OFFICE_ST)\n",
    "SELECT DISTINCT cmte_city, \n",
    "cmte_st,\n",
    "cand_office_st\n",
    "FROM election2020;"
   ]
  },
  {
   "cell_type": "code",
   "execution_count": 91,
   "metadata": {},
   "outputs": [
    {
     "name": "stdout",
     "output_type": "stream",
     "text": [
      " * postgresql://student@/final\n",
      "5 rows affected.\n"
     ]
    },
    {
     "data": {
      "text/html": [
       "<table>\n",
       "    <tr>\n",
       "        <th>key</th>\n",
       "        <th>cmte_city</th>\n",
       "        <th>cmte_state</th>\n",
       "        <th>cand_office_st</th>\n",
       "    </tr>\n",
       "    <tr>\n",
       "        <td>1</td>\n",
       "        <td>JACKSON</td>\n",
       "        <td>MI</td>\n",
       "        <td>WA</td>\n",
       "    </tr>\n",
       "    <tr>\n",
       "        <td>2</td>\n",
       "        <td>ATLANTIC BEACH</td>\n",
       "        <td>FL</td>\n",
       "        <td>OK</td>\n",
       "    </tr>\n",
       "    <tr>\n",
       "        <td>3</td>\n",
       "        <td>HOUSTON</td>\n",
       "        <td>TX</td>\n",
       "        <td>GA</td>\n",
       "    </tr>\n",
       "    <tr>\n",
       "        <td>4</td>\n",
       "        <td>FAIRFAX</td>\n",
       "        <td>VA</td>\n",
       "        <td>OR</td>\n",
       "    </tr>\n",
       "    <tr>\n",
       "        <td>5</td>\n",
       "        <td>MORRISTOWN</td>\n",
       "        <td>NJ</td>\n",
       "        <td>NC</td>\n",
       "    </tr>\n",
       "</table>"
      ],
      "text/plain": [
       "[(1, 'JACKSON', 'MI', 'WA'),\n",
       " (2, 'ATLANTIC BEACH', 'FL', 'OK'),\n",
       " (3, 'HOUSTON', 'TX', 'GA'),\n",
       " (4, 'FAIRFAX', 'VA', 'OR'),\n",
       " (5, 'MORRISTOWN', 'NJ', 'NC')]"
      ]
     },
     "execution_count": 91,
     "metadata": {},
     "output_type": "execute_result"
    }
   ],
   "source": [
    "%%sql\n",
    "SELECT * \n",
    "FROM location\n",
    "limit 5;"
   ]
  },
  {
   "cell_type": "markdown",
   "metadata": {},
   "source": [
    "### Committee Dimension"
   ]
  },
  {
   "cell_type": "code",
   "execution_count": 92,
   "metadata": {},
   "outputs": [
    {
     "name": "stdout",
     "output_type": "stream",
     "text": [
      " * postgresql://student@/final\n",
      "Done.\n",
      "Done.\n"
     ]
    },
    {
     "data": {
      "text/plain": [
       "[]"
      ]
     },
     "execution_count": 92,
     "metadata": {},
     "output_type": "execute_result"
    }
   ],
   "source": [
    "%%sql\n",
    "DROP TABLE IF EXISTS committee;\n",
    "\n",
    "CREATE TABLE committee (\n",
    "    key SERIAL PRIMARY KEY,\n",
    "    cmte_id VARCHAR(9),\n",
    "    cmte_name VARCHAR(200),\n",
    "    contributor_name VARCHAR(200),\n",
    "    cmte_dsgn VARCHAR(2),\n",
    "    entity_type VARCHAR(3),\n",
    "    org_tp VARCHAR(1) NULL\n",
    ");"
   ]
  },
  {
   "cell_type": "code",
   "execution_count": 93,
   "metadata": {},
   "outputs": [
    {
     "name": "stdout",
     "output_type": "stream",
     "text": [
      " * postgresql://student@/final\n",
      "85474 rows affected.\n"
     ]
    },
    {
     "data": {
      "text/plain": [
       "[]"
      ]
     },
     "execution_count": 93,
     "metadata": {},
     "output_type": "execute_result"
    }
   ],
   "source": [
    "%%sql\n",
    "INSERT INTO committee(cmte_id, cmte_name, contributor_name, cmte_dsgn, entity_type,org_tp)\n",
    "SELECT DISTINCT cmte_id, \n",
    "cmte_nm, \n",
    "cont_name, \n",
    "cmte_dsgn, \n",
    "entity_tp,\n",
    "org_tp\n",
    "FROM election2020;"
   ]
  },
  {
   "cell_type": "code",
   "execution_count": 94,
   "metadata": {},
   "outputs": [
    {
     "name": "stdout",
     "output_type": "stream",
     "text": [
      " * postgresql://student@/final\n",
      "5 rows affected.\n"
     ]
    },
    {
     "data": {
      "text/html": [
       "<table>\n",
       "    <tr>\n",
       "        <th>key</th>\n",
       "        <th>cmte_id</th>\n",
       "        <th>cmte_name</th>\n",
       "        <th>contributor_name</th>\n",
       "        <th>cmte_dsgn</th>\n",
       "        <th>entity_type</th>\n",
       "        <th>org_tp</th>\n",
       "    </tr>\n",
       "    <tr>\n",
       "        <td>1</td>\n",
       "        <td>C00034355</td>\n",
       "        <td>PEOPLE PAC (PACCAR INC EMPLOYEES ORGANIZED FOR POLITICAL LEADERSHIP AND EDUCATION PAC)</td>\n",
       "        <td>JAIME FOR CONGRESS</td>\n",
       "        <td>U</td>\n",
       "        <td>CCM</td>\n",
       "        <td>C</td>\n",
       "    </tr>\n",
       "    <tr>\n",
       "        <td>2</td>\n",
       "        <td>C00357129</td>\n",
       "        <td>AMERICAN ASSOCIATION FOR HOMECARE POLITICAL ACTION COMMITTEE (AAHOMECARE PAC)</td>\n",
       "        <td>TOM REED FOR CONGRESS</td>\n",
       "        <td>B</td>\n",
       "        <td>CCM</td>\n",
       "        <td>T</td>\n",
       "    </tr>\n",
       "    <tr>\n",
       "        <td>3</td>\n",
       "        <td>C00300921</td>\n",
       "        <td>BLACK AMERICA&#x27;S POLITICAL ACTION COMMITTEE</td>\n",
       "        <td>HAMILTON, TAMIKA</td>\n",
       "        <td>U</td>\n",
       "        <td>CAN</td>\n",
       "        <td>None</td>\n",
       "    </tr>\n",
       "    <tr>\n",
       "        <td>4</td>\n",
       "        <td>C00089136</td>\n",
       "        <td>ALTRIA GROUP, INC. POLITICAL ACTION COMMITTEE (ALTRIAPAC)</td>\n",
       "        <td>VOLUNTEERS FOR SHIMKUS</td>\n",
       "        <td>B</td>\n",
       "        <td>CCM</td>\n",
       "        <td>C</td>\n",
       "    </tr>\n",
       "    <tr>\n",
       "        <td>5</td>\n",
       "        <td>C00000729</td>\n",
       "        <td>AMERICAN DENTAL ASSOCIATION POLITICAL ACTION COMMITTEE</td>\n",
       "        <td>SHANE HERNANDEZ FOR CONGRESS</td>\n",
       "        <td>B</td>\n",
       "        <td>CCM</td>\n",
       "        <td>M</td>\n",
       "    </tr>\n",
       "</table>"
      ],
      "text/plain": [
       "[(1, 'C00034355', 'PEOPLE PAC (PACCAR INC EMPLOYEES ORGANIZED FOR POLITICAL LEADERSHIP AND EDUCATION PAC)', 'JAIME FOR CONGRESS', 'U', 'CCM', 'C'),\n",
       " (2, 'C00357129', 'AMERICAN ASSOCIATION FOR HOMECARE POLITICAL ACTION COMMITTEE (AAHOMECARE PAC)', 'TOM REED FOR CONGRESS', 'B', 'CCM', 'T'),\n",
       " (3, 'C00300921', \"BLACK AMERICA'S POLITICAL ACTION COMMITTEE\", 'HAMILTON, TAMIKA', 'U', 'CAN', None),\n",
       " (4, 'C00089136', 'ALTRIA GROUP, INC. POLITICAL ACTION COMMITTEE (ALTRIAPAC)', 'VOLUNTEERS FOR SHIMKUS', 'B', 'CCM', 'C'),\n",
       " (5, 'C00000729', 'AMERICAN DENTAL ASSOCIATION POLITICAL ACTION COMMITTEE', 'SHANE HERNANDEZ FOR CONGRESS', 'B', 'CCM', 'M')]"
      ]
     },
     "execution_count": 94,
     "metadata": {},
     "output_type": "execute_result"
    }
   ],
   "source": [
    "%%sql\n",
    "SELECT * \n",
    "FROM committee\n",
    "limit 5;"
   ]
  },
  {
   "cell_type": "markdown",
   "metadata": {},
   "source": [
    "### Candidiate Dimension"
   ]
  },
  {
   "cell_type": "code",
   "execution_count": 95,
   "metadata": {},
   "outputs": [
    {
     "name": "stdout",
     "output_type": "stream",
     "text": [
      " * postgresql://student@/final\n",
      "Done.\n",
      "Done.\n"
     ]
    },
    {
     "data": {
      "text/plain": [
       "[]"
      ]
     },
     "execution_count": 95,
     "metadata": {},
     "output_type": "execute_result"
    }
   ],
   "source": [
    "%%sql\n",
    "DROP TABLE IF EXISTS candidate;\n",
    "\n",
    "CREATE TABLE candidate (\n",
    "    key SERIAL PRIMARY KEY,\n",
    "    cand_id VARCHAR(9),\n",
    "    cand_name VARCHAR(50),\n",
    "    cand_party VARCHAR(3),\n",
    "    total_receipts NUMERIC(14,2),\n",
    "    CAND_ELECTION_YR varchar(4) NULL,\n",
    "    CAND_OFFICE VARCHAR(1) NULL,\n",
    "    CAND_OFFICE_DISTRICT VARCHAR(2),\n",
    "    CAND_PCC VARCHAR(9) NULL,\n",
    "    CAND_PTY_AFFILIATION VARCHAR(3) NULL\n",
    "    \n",
    ");"
   ]
  },
  {
   "cell_type": "code",
   "execution_count": 96,
   "metadata": {},
   "outputs": [
    {
     "name": "stdout",
     "output_type": "stream",
     "text": [
      " * postgresql://student@/final\n",
      "1391 rows affected.\n"
     ]
    },
    {
     "data": {
      "text/plain": [
       "[]"
      ]
     },
     "execution_count": 96,
     "metadata": {},
     "output_type": "execute_result"
    }
   ],
   "source": [
    "%%sql\n",
    "INSERT INTO candidate(cand_id, cand_name, cand_party, total_receipts,CAND_ELECTION_YR,CAND_OFFICE,CAND_OFFICE_DISTRICT,CAND_PCC,CAND_PTY_AFFILIATION)\n",
    "SELECT DISTINCT cand_id, \n",
    "cand_name, \n",
    "cand_pty_affiliation, \n",
    "ttl_receipts,\n",
    "CAND_ELECTION_YR,\n",
    "CAND_OFFICE,\n",
    "CAND_OFFICE_DISTRICT,\n",
    "CAND_PCC,\n",
    "CAND_PTY_AFFILIATION\n",
    "FROM election2020;"
   ]
  },
  {
   "cell_type": "code",
   "execution_count": 97,
   "metadata": {},
   "outputs": [
    {
     "name": "stdout",
     "output_type": "stream",
     "text": [
      " * postgresql://student@/final\n",
      "5 rows affected.\n"
     ]
    },
    {
     "data": {
      "text/html": [
       "<table>\n",
       "    <tr>\n",
       "        <th>key</th>\n",
       "        <th>cand_id</th>\n",
       "        <th>cand_name</th>\n",
       "        <th>cand_party</th>\n",
       "        <th>total_receipts</th>\n",
       "        <th>cand_election_yr</th>\n",
       "        <th>cand_office</th>\n",
       "        <th>cand_office_district</th>\n",
       "        <th>cand_pcc</th>\n",
       "        <th>cand_pty_affiliation</th>\n",
       "    </tr>\n",
       "    <tr>\n",
       "        <td>1</td>\n",
       "        <td>S8ID00092</td>\n",
       "        <td>RISCH, JAMES E</td>\n",
       "        <td>REP</td>\n",
       "        <td>2936679.42</td>\n",
       "        <td>2020</td>\n",
       "        <td>S</td>\n",
       "        <td>0</td>\n",
       "        <td>C00440362</td>\n",
       "        <td>REP</td>\n",
       "    </tr>\n",
       "    <tr>\n",
       "        <td>2</td>\n",
       "        <td>H0GA14089</td>\n",
       "        <td>BARGE, JOHN D</td>\n",
       "        <td>REP</td>\n",
       "        <td>180726.00</td>\n",
       "        <td>2020</td>\n",
       "        <td>H</td>\n",
       "        <td>14</td>\n",
       "        <td>C00736959</td>\n",
       "        <td>REP</td>\n",
       "    </tr>\n",
       "    <tr>\n",
       "        <td>3</td>\n",
       "        <td>H0FL03159</td>\n",
       "        <td>WELLS, AMY POPE</td>\n",
       "        <td>REP</td>\n",
       "        <td>220476.92</td>\n",
       "        <td>2020</td>\n",
       "        <td>H</td>\n",
       "        <td>3</td>\n",
       "        <td>C00703520</td>\n",
       "        <td>REP</td>\n",
       "    </tr>\n",
       "    <tr>\n",
       "        <td>4</td>\n",
       "        <td>H0MD01216</td>\n",
       "        <td>DELGADO, JORGE</td>\n",
       "        <td>REP</td>\n",
       "        <td>108337.73</td>\n",
       "        <td>2020</td>\n",
       "        <td>H</td>\n",
       "        <td>1</td>\n",
       "        <td>C00719658</td>\n",
       "        <td>REP</td>\n",
       "    </tr>\n",
       "    <tr>\n",
       "        <td>5</td>\n",
       "        <td>S2VA00142</td>\n",
       "        <td>KAINE, TIMOTHY MICHAEL</td>\n",
       "        <td>DEM</td>\n",
       "        <td>1183495.96</td>\n",
       "        <td>2024</td>\n",
       "        <td>S</td>\n",
       "        <td>0</td>\n",
       "        <td>C00495358</td>\n",
       "        <td>DEM</td>\n",
       "    </tr>\n",
       "</table>"
      ],
      "text/plain": [
       "[(1, 'S8ID00092', 'RISCH, JAMES E', 'REP', Decimal('2936679.42'), '2020', 'S', '0', 'C00440362', 'REP'),\n",
       " (2, 'H0GA14089', 'BARGE, JOHN D', 'REP', Decimal('180726.00'), '2020', 'H', '14', 'C00736959', 'REP'),\n",
       " (3, 'H0FL03159', 'WELLS, AMY POPE', 'REP', Decimal('220476.92'), '2020', 'H', '3', 'C00703520', 'REP'),\n",
       " (4, 'H0MD01216', 'DELGADO, JORGE', 'REP', Decimal('108337.73'), '2020', 'H', '1', 'C00719658', 'REP'),\n",
       " (5, 'S2VA00142', 'KAINE, TIMOTHY MICHAEL', 'DEM', Decimal('1183495.96'), '2024', 'S', '0', 'C00495358', 'DEM')]"
      ]
     },
     "execution_count": 97,
     "metadata": {},
     "output_type": "execute_result"
    }
   ],
   "source": [
    "%%sql\n",
    "SELECT * \n",
    "FROM candidate\n",
    "limit 5;"
   ]
  },
  {
   "cell_type": "markdown",
   "metadata": {},
   "source": [
    "## distribution dimensional table"
   ]
  },
  {
   "cell_type": "code",
   "execution_count": 98,
   "metadata": {},
   "outputs": [
    {
     "name": "stdout",
     "output_type": "stream",
     "text": [
      " * postgresql://student@/final\n",
      "Done.\n",
      "Done.\n"
     ]
    },
    {
     "data": {
      "text/plain": [
       "[]"
      ]
     },
     "execution_count": 98,
     "metadata": {},
     "output_type": "execute_result"
    }
   ],
   "source": [
    "%%sql\n",
    "DROP TABLE IF EXISTS distributed cascade;\n",
    "\n",
    "CREATE TABLE distributed (\n",
    "    key SERIAL PRIMARY KEY,\n",
    "    COH_BOP  NUMERIC(14,2) NULL,\n",
    "    COH_COP NUMERIC(14,2) NULL\n",
    ");"
   ]
  },
  {
   "cell_type": "code",
   "execution_count": 99,
   "metadata": {},
   "outputs": [
    {
     "name": "stdout",
     "output_type": "stream",
     "text": [
      " * postgresql://student@/final\n",
      "1248 rows affected.\n"
     ]
    },
    {
     "data": {
      "text/plain": [
       "[]"
      ]
     },
     "execution_count": 99,
     "metadata": {},
     "output_type": "execute_result"
    }
   ],
   "source": [
    "%%sql\n",
    "INSERT INTO distributed(COH_BOP,COH_COP)\n",
    "SELECT DISTINCT COH_BOP, COH_COP\n",
    "FROM election2020;"
   ]
  },
  {
   "cell_type": "code",
   "execution_count": 100,
   "metadata": {},
   "outputs": [
    {
     "name": "stdout",
     "output_type": "stream",
     "text": [
      " * postgresql://student@/final\n",
      "5 rows affected.\n"
     ]
    },
    {
     "data": {
      "text/html": [
       "<table>\n",
       "    <tr>\n",
       "        <th>key</th>\n",
       "        <th>coh_bop</th>\n",
       "        <th>coh_cop</th>\n",
       "    </tr>\n",
       "    <tr>\n",
       "        <td>1</td>\n",
       "        <td>0.00</td>\n",
       "        <td>0.00</td>\n",
       "    </tr>\n",
       "    <tr>\n",
       "        <td>2</td>\n",
       "        <td>109801.51</td>\n",
       "        <td>248710.25</td>\n",
       "    </tr>\n",
       "    <tr>\n",
       "        <td>3</td>\n",
       "        <td>0.00</td>\n",
       "        <td>-711.84</td>\n",
       "    </tr>\n",
       "    <tr>\n",
       "        <td>4</td>\n",
       "        <td>0.00</td>\n",
       "        <td>113.58</td>\n",
       "    </tr>\n",
       "    <tr>\n",
       "        <td>5</td>\n",
       "        <td>1053294.45</td>\n",
       "        <td>1371021.71</td>\n",
       "    </tr>\n",
       "</table>"
      ],
      "text/plain": [
       "[(1, Decimal('0.00'), Decimal('0.00')),\n",
       " (2, Decimal('109801.51'), Decimal('248710.25')),\n",
       " (3, Decimal('0.00'), Decimal('-711.84')),\n",
       " (4, Decimal('0.00'), Decimal('113.58')),\n",
       " (5, Decimal('1053294.45'), Decimal('1371021.71'))]"
      ]
     },
     "execution_count": 100,
     "metadata": {},
     "output_type": "execute_result"
    }
   ],
   "source": [
    "%%sql\n",
    "SELECT * \n",
    "FROM distributed\n",
    "limit 5;"
   ]
  },
  {
   "cell_type": "markdown",
   "metadata": {},
   "source": [
    "### loan & refund dimensional table"
   ]
  },
  {
   "cell_type": "code",
   "execution_count": 101,
   "metadata": {},
   "outputs": [
    {
     "name": "stdout",
     "output_type": "stream",
     "text": [
      " * postgresql://student@/final\n",
      "Done.\n",
      "Done.\n"
     ]
    },
    {
     "data": {
      "text/plain": [
       "[]"
      ]
     },
     "execution_count": 101,
     "metadata": {},
     "output_type": "execute_result"
    }
   ],
   "source": [
    "%%sql\n",
    "DROP TABLE IF EXISTS loan_refund cascade;\n",
    "\n",
    "CREATE TABLE loan_refund (\n",
    "    key SERIAL PRIMARY KEY,\n",
    "    CAND_LOANS NUMERIC(14,2) NULL,\n",
    "    OTHER_LOANS NUMERIC(14,2) NULL,\n",
    "    CAND_LOAN_REPAY NUMERIC(14,2) NULL,\n",
    "    OTHER_LOAN_REPAY NUMERIC(14,2) NULL,\n",
    "    DEBTS_OWED_BY NUMERIC(14,2) NULL\n",
    ");"
   ]
  },
  {
   "cell_type": "code",
   "execution_count": 102,
   "metadata": {},
   "outputs": [
    {
     "name": "stdout",
     "output_type": "stream",
     "text": [
      " * postgresql://student@/final\n",
      "590 rows affected.\n"
     ]
    },
    {
     "data": {
      "text/plain": [
       "[]"
      ]
     },
     "execution_count": 102,
     "metadata": {},
     "output_type": "execute_result"
    }
   ],
   "source": [
    "%%sql\n",
    "INSERT INTO loan_refund(CAND_LOANS,OTHER_LOANS,CAND_LOAN_REPAY,OTHER_LOAN_REPAY,DEBTS_OWED_BY)\n",
    "SELECT DISTINCT CAND_LOANS,\n",
    "OTHER_LOANS,\n",
    "CAND_LOAN_REPAY,\n",
    "OTHER_LOAN_REPAY,\n",
    "DEBTS_OWED_BY\n",
    "FROM election2020;"
   ]
  },
  {
   "cell_type": "code",
   "execution_count": 103,
   "metadata": {},
   "outputs": [
    {
     "name": "stdout",
     "output_type": "stream",
     "text": [
      " * postgresql://student@/final\n",
      "5 rows affected.\n"
     ]
    },
    {
     "data": {
      "text/html": [
       "<table>\n",
       "    <tr>\n",
       "        <th>key</th>\n",
       "        <th>cand_loans</th>\n",
       "        <th>other_loans</th>\n",
       "        <th>cand_loan_repay</th>\n",
       "        <th>other_loan_repay</th>\n",
       "        <th>debts_owed_by</th>\n",
       "    </tr>\n",
       "    <tr>\n",
       "        <td>1</td>\n",
       "        <td>0.00</td>\n",
       "        <td>0.00</td>\n",
       "        <td>0.00</td>\n",
       "        <td>0.00</td>\n",
       "        <td>3191.43</td>\n",
       "    </tr>\n",
       "    <tr>\n",
       "        <td>2</td>\n",
       "        <td>0.00</td>\n",
       "        <td>0.00</td>\n",
       "        <td>0.00</td>\n",
       "        <td>0.00</td>\n",
       "        <td>315000.00</td>\n",
       "    </tr>\n",
       "    <tr>\n",
       "        <td>3</td>\n",
       "        <td>0.00</td>\n",
       "        <td>0.00</td>\n",
       "        <td>0.00</td>\n",
       "        <td>0.00</td>\n",
       "        <td>10200.00</td>\n",
       "    </tr>\n",
       "    <tr>\n",
       "        <td>4</td>\n",
       "        <td>2100.00</td>\n",
       "        <td>100.00</td>\n",
       "        <td>2100.00</td>\n",
       "        <td>100.00</td>\n",
       "        <td>0.00</td>\n",
       "    </tr>\n",
       "    <tr>\n",
       "        <td>5</td>\n",
       "        <td>25000.00</td>\n",
       "        <td>0.00</td>\n",
       "        <td>0.00</td>\n",
       "        <td>0.00</td>\n",
       "        <td>34231.18</td>\n",
       "    </tr>\n",
       "</table>"
      ],
      "text/plain": [
       "[(1, Decimal('0.00'), Decimal('0.00'), Decimal('0.00'), Decimal('0.00'), Decimal('3191.43')),\n",
       " (2, Decimal('0.00'), Decimal('0.00'), Decimal('0.00'), Decimal('0.00'), Decimal('315000.00')),\n",
       " (3, Decimal('0.00'), Decimal('0.00'), Decimal('0.00'), Decimal('0.00'), Decimal('10200.00')),\n",
       " (4, Decimal('2100.00'), Decimal('100.00'), Decimal('2100.00'), Decimal('100.00'), Decimal('0.00')),\n",
       " (5, Decimal('25000.00'), Decimal('0.00'), Decimal('0.00'), Decimal('0.00'), Decimal('34231.18'))]"
      ]
     },
     "execution_count": 103,
     "metadata": {},
     "output_type": "execute_result"
    }
   ],
   "source": [
    "%%sql\n",
    "SELECT * \n",
    "FROM loan_refund\n",
    "limit 5;"
   ]
  },
  {
   "cell_type": "markdown",
   "metadata": {},
   "source": [
    "### Add the four dimension key columns with the corresponding foreign key constraints to the fact table "
   ]
  },
  {
   "cell_type": "markdown",
   "metadata": {},
   "source": [
    "#### * date_key"
   ]
  },
  {
   "cell_type": "code",
   "execution_count": 104,
   "metadata": {},
   "outputs": [
    {
     "name": "stdout",
     "output_type": "stream",
     "text": [
      " * postgresql://student@/final\n",
      "Done.\n"
     ]
    },
    {
     "data": {
      "text/plain": [
       "[]"
      ]
     },
     "execution_count": 104,
     "metadata": {},
     "output_type": "execute_result"
    }
   ],
   "source": [
    "%%sql\n",
    "ALTER TABLE election2020\n",
    "ADD COLUMN date_key INTEGER,\n",
    "ADD CONSTRAINT dt_fk FOREIGN KEY(date_key) REFERENCES date(key);"
   ]
  },
  {
   "cell_type": "code",
   "execution_count": 105,
   "metadata": {},
   "outputs": [
    {
     "name": "stdout",
     "output_type": "stream",
     "text": [
      " * postgresql://student@/final\n",
      "173411 rows affected.\n"
     ]
    },
    {
     "data": {
      "text/plain": [
       "[]"
      ]
     },
     "execution_count": 105,
     "metadata": {},
     "output_type": "execute_result"
    }
   ],
   "source": [
    "%%sql\n",
    "UPDATE election2020\n",
    "SET date_key = date.key\n",
    "FROM date\n",
    "WHERE election2020.transaction_dt = date.full_date"
   ]
  },
  {
   "cell_type": "markdown",
   "metadata": {},
   "source": [
    "* drop the full_date column which was used only to connect the fact table and the corresponding dimension table"
   ]
  },
  {
   "cell_type": "code",
   "execution_count": 106,
   "metadata": {},
   "outputs": [
    {
     "name": "stdout",
     "output_type": "stream",
     "text": [
      " * postgresql://student@/final\n",
      "Done.\n"
     ]
    },
    {
     "data": {
      "text/plain": [
       "[]"
      ]
     },
     "execution_count": 106,
     "metadata": {},
     "output_type": "execute_result"
    }
   ],
   "source": [
    "%%sql\n",
    "ALTER TABLE date\n",
    "DROP COLUMN full_date;"
   ]
  },
  {
   "cell_type": "markdown",
   "metadata": {},
   "source": [
    "#### * location_key"
   ]
  },
  {
   "cell_type": "code",
   "execution_count": 107,
   "metadata": {},
   "outputs": [
    {
     "name": "stdout",
     "output_type": "stream",
     "text": [
      " * postgresql://student@/final\n",
      "Done.\n"
     ]
    },
    {
     "data": {
      "text/plain": [
       "[]"
      ]
     },
     "execution_count": 107,
     "metadata": {},
     "output_type": "execute_result"
    }
   ],
   "source": [
    "%%sql\n",
    "ALTER TABLE election2020\n",
    "ADD COLUMN location_key INTEGER,\n",
    "ADD CONSTRAINT lc_fk FOREIGN KEY(location_key) REFERENCES location(key);"
   ]
  },
  {
   "cell_type": "code",
   "execution_count": 108,
   "metadata": {},
   "outputs": [
    {
     "name": "stdout",
     "output_type": "stream",
     "text": [
      " * postgresql://student@/final\n",
      "173830 rows affected.\n"
     ]
    },
    {
     "data": {
      "text/plain": [
       "[]"
      ]
     },
     "execution_count": 108,
     "metadata": {},
     "output_type": "execute_result"
    }
   ],
   "source": [
    "%%sql\n",
    "UPDATE election2020\n",
    "SET location_key = location.key\n",
    "FROM location\n",
    "WHERE election2020.cmte_city = location.cmte_city AND election2020.cmte_st = location.cmte_state AND election2020.CAND_OFFICE_ST=location.CAND_OFFICE_ST;"
   ]
  },
  {
   "cell_type": "markdown",
   "metadata": {},
   "source": [
    "#### * committee_key"
   ]
  },
  {
   "cell_type": "code",
   "execution_count": 109,
   "metadata": {},
   "outputs": [
    {
     "name": "stdout",
     "output_type": "stream",
     "text": [
      " * postgresql://student@/final\n",
      "Done.\n"
     ]
    },
    {
     "data": {
      "text/plain": [
       "[]"
      ]
     },
     "execution_count": 109,
     "metadata": {},
     "output_type": "execute_result"
    }
   ],
   "source": [
    "%%sql\n",
    "ALTER TABLE election2020\n",
    "ADD COLUMN committee_key INTEGER,\n",
    "ADD CONSTRAINT cm_fk FOREIGN KEY(committee_key) REFERENCES committee(key);"
   ]
  },
  {
   "cell_type": "code",
   "execution_count": 110,
   "metadata": {},
   "outputs": [
    {
     "name": "stdout",
     "output_type": "stream",
     "text": [
      " * postgresql://student@/final\n",
      "144480 rows affected.\n"
     ]
    },
    {
     "data": {
      "text/plain": [
       "[]"
      ]
     },
     "execution_count": 110,
     "metadata": {},
     "output_type": "execute_result"
    }
   ],
   "source": [
    "%%sql\n",
    "UPDATE election2020\n",
    "SET committee_key = committee.key\n",
    "FROM committee\n",
    "WHERE election2020.cmte_id = committee.cmte_id \n",
    "AND election2020.cmte_nm = committee.cmte_name\n",
    "AND election2020.cont_name = committee.contributor_name\n",
    "AND election2020.cmte_dsgn = committee.cmte_dsgn\n",
    "AND election2020.entity_tp = committee.entity_type\n",
    "AND election2020.ORG_TP =committee.ORG_TP;"
   ]
  },
  {
   "cell_type": "markdown",
   "metadata": {},
   "source": [
    "#### * candidate_key"
   ]
  },
  {
   "cell_type": "code",
   "execution_count": 111,
   "metadata": {},
   "outputs": [
    {
     "name": "stdout",
     "output_type": "stream",
     "text": [
      " * postgresql://student@/final\n",
      "Done.\n"
     ]
    },
    {
     "data": {
      "text/plain": [
       "[]"
      ]
     },
     "execution_count": 111,
     "metadata": {},
     "output_type": "execute_result"
    }
   ],
   "source": [
    "%%sql\n",
    "ALTER TABLE election2020\n",
    "ADD COLUMN candidate_key INTEGER,\n",
    "ADD CONSTRAINT cd_fk FOREIGN KEY(candidate_key) REFERENCES candidate(key);"
   ]
  },
  {
   "cell_type": "code",
   "execution_count": 112,
   "metadata": {},
   "outputs": [
    {
     "name": "stdout",
     "output_type": "stream",
     "text": [
      " * postgresql://student@/final\n",
      "173884 rows affected.\n"
     ]
    },
    {
     "data": {
      "text/plain": [
       "[]"
      ]
     },
     "execution_count": 112,
     "metadata": {},
     "output_type": "execute_result"
    }
   ],
   "source": [
    "%%sql\n",
    "UPDATE election2020\n",
    "SET candidate_key = candidate.key\n",
    "FROM candidate\n",
    "WHERE election2020.cand_id = candidate.cand_id\n",
    "AND election2020.cand_name = candidate.cand_name\n",
    "AND election2020.cand_pty_affiliation = candidate.cand_party\n",
    "AND election2020.ttl_receipts = candidate.total_receipts\n",
    "AND election2020.CAND_ELECTION_YR=candidate.CAND_ELECTION_YR\n",
    "AND election2020.CAND_OFFICE=candidate.CAND_OFFICE\n",
    "AND election2020.CAND_OFFICE_DISTRICT=candidate.CAND_OFFICE_DISTRICT\n",
    "And election2020.CAND_PCC=candidate.CAND_PCC\n",
    "AND election2020.CAND_PTY_AFFILIATION=candidate.CAND_PTY_AFFILIATION;"
   ]
  },
  {
   "cell_type": "markdown",
   "metadata": {},
   "source": [
    "* distributed_key"
   ]
  },
  {
   "cell_type": "code",
   "execution_count": 113,
   "metadata": {},
   "outputs": [
    {
     "name": "stdout",
     "output_type": "stream",
     "text": [
      " * postgresql://student@/final\n",
      "Done.\n"
     ]
    },
    {
     "data": {
      "text/plain": [
       "[]"
      ]
     },
     "execution_count": 113,
     "metadata": {},
     "output_type": "execute_result"
    }
   ],
   "source": [
    "%%sql\n",
    "ALTER TABLE election2020\n",
    "ADD COLUMN distributed_key INTEGER,\n",
    "ADD CONSTRAINT ds_fk FOREIGN KEY(distributed_key) REFERENCES distributed(key);"
   ]
  },
  {
   "cell_type": "code",
   "execution_count": 114,
   "metadata": {},
   "outputs": [
    {
     "name": "stdout",
     "output_type": "stream",
     "text": [
      " * postgresql://student@/final\n",
      "173885 rows affected.\n"
     ]
    },
    {
     "data": {
      "text/plain": [
       "[]"
      ]
     },
     "execution_count": 114,
     "metadata": {},
     "output_type": "execute_result"
    }
   ],
   "source": [
    "%%sql\n",
    "UPDATE election2020\n",
    "SET distributed_key = distributed.key\n",
    "FROM distributed\n",
    "WHERE election2020.COH_BOP = distributed.COH_BOP\n",
    "AND election2020.COH_COP = distributed.COH_COP;"
   ]
  },
  {
   "cell_type": "markdown",
   "metadata": {},
   "source": [
    "* loan and refund_key"
   ]
  },
  {
   "cell_type": "code",
   "execution_count": 115,
   "metadata": {},
   "outputs": [
    {
     "name": "stdout",
     "output_type": "stream",
     "text": [
      " * postgresql://student@/final\n",
      "Done.\n"
     ]
    },
    {
     "data": {
      "text/plain": [
       "[]"
      ]
     },
     "execution_count": 115,
     "metadata": {},
     "output_type": "execute_result"
    }
   ],
   "source": [
    "%%sql\n",
    "ALTER TABLE election2020\n",
    "ADD COLUMN loan_key INTEGER,\n",
    "ADD CONSTRAINT lr_fk FOREIGN KEY(loan_key) REFERENCES loan_refund(key);"
   ]
  },
  {
   "cell_type": "code",
   "execution_count": 116,
   "metadata": {},
   "outputs": [
    {
     "name": "stdout",
     "output_type": "stream",
     "text": [
      " * postgresql://student@/final\n",
      "173885 rows affected.\n"
     ]
    },
    {
     "data": {
      "text/plain": [
       "[]"
      ]
     },
     "execution_count": 116,
     "metadata": {},
     "output_type": "execute_result"
    }
   ],
   "source": [
    "%%sql\n",
    "UPDATE election2020\n",
    "SET loan_key = loan_refund.key\n",
    "FROM loan_refund\n",
    "WHERE election2020.CAND_LOANS = loan_refund.CAND_LOANS\n",
    "AND election2020.OTHER_LOANS = loan_refund.OTHER_LOANS\n",
    "AND election2020.CAND_LOAN_REPAY = loan_refund.CAND_LOAN_REPAY\n",
    "AND election2020.OTHER_LOAN_REPAY = loan_refund.OTHER_LOAN_REPAY\n",
    "AND election2020.DEBTS_OWED_BY = loan_refund.DEBTS_OWED_BY;"
   ]
  },
  {
   "cell_type": "markdown",
   "metadata": {},
   "source": [
    "### Drop the columns duplicated with the ones in each dimension table "
   ]
  },
  {
   "cell_type": "code",
   "execution_count": 117,
   "metadata": {},
   "outputs": [
    {
     "name": "stdout",
     "output_type": "stream",
     "text": [
      " * postgresql://student@/final\n",
      "Done.\n"
     ]
    },
    {
     "data": {
      "text/plain": [
       "[]"
      ]
     },
     "execution_count": 117,
     "metadata": {},
     "output_type": "execute_result"
    }
   ],
   "source": [
    "%%sql\n",
    "ALTER TABLE election2020\n",
    "DROP COLUMN transaction_dt,\n",
    "DROP COLUMN cmte_city,\n",
    "DROP COLUMN cmte_st,\n",
    "DROP COLUMN cmte_id,\n",
    "DROP COLUMN cmte_nm,\n",
    "DROP COLUMN cmte_dsgn,\n",
    "DROP COLUMN entity_tp,\n",
    "DROP COLUMN cont_name,\n",
    "DROP COLUMN cand_id,\n",
    "DROP COLUMN cand_name,\n",
    "DROP COLUMN cand_pty_affiliation,\n",
    "DROP COLUMN ttl_receipts,\n",
    "DROP COLUMN COH_BOP,\n",
    "DROP COLUMN COH_COP,\n",
    "DROP COLUMN ORG_TP,\n",
    "DROP COLUMN cand_loans,\n",
    "DROP COLUMN other_loans,\n",
    "DROP COLUMN cand_loan_repay,\n",
    "DROP COLUMN other_loan_repay,\n",
    "DROP COLUMN debts_owed_by,\n",
    "DROP COLUMN cand_election_yr,\n",
    "DROP COLUMN cand_office_st,\n",
    "DROP COLUMN cand_office,\n",
    "DROP COLUMN cand_office_district,\n",
    "DROP COLUMN cand_pcc;"
   ]
  },
  {
   "cell_type": "code",
   "execution_count": 118,
   "metadata": {},
   "outputs": [
    {
     "name": "stdout",
     "output_type": "stream",
     "text": [
      " * postgresql://student@/final\n",
      "5 rows affected.\n"
     ]
    },
    {
     "data": {
      "text/html": [
       "<table>\n",
       "    <tr>\n",
       "        <th>transaction_amt</th>\n",
       "        <th>total_liabilities</th>\n",
       "        <th>ttl_indiv_contrib</th>\n",
       "        <th>other_pol_cmte_contrib</th>\n",
       "        <th>pol_pty_contrib</th>\n",
       "        <th>indiv_refunds</th>\n",
       "        <th>cmte_refunds</th>\n",
       "        <th>date_key</th>\n",
       "        <th>location_key</th>\n",
       "        <th>committee_key</th>\n",
       "        <th>candidate_key</th>\n",
       "        <th>distributed_key</th>\n",
       "        <th>loan_key</th>\n",
       "    </tr>\n",
       "    <tr>\n",
       "        <td>29500</td>\n",
       "        <td>1000.00</td>\n",
       "        <td>398892.99</td>\n",
       "        <td>10000.00</td>\n",
       "        <td>0.00</td>\n",
       "        <td>0.00</td>\n",
       "        <td>0.00</td>\n",
       "        <td>None</td>\n",
       "        <td>9095</td>\n",
       "        <td>15090</td>\n",
       "        <td>1026</td>\n",
       "        <td>725</td>\n",
       "        <td>120</td>\n",
       "    </tr>\n",
       "    <tr>\n",
       "        <td>62300</td>\n",
       "        <td>1000.00</td>\n",
       "        <td>398892.99</td>\n",
       "        <td>10000.00</td>\n",
       "        <td>0.00</td>\n",
       "        <td>0.00</td>\n",
       "        <td>0.00</td>\n",
       "        <td>None</td>\n",
       "        <td>9095</td>\n",
       "        <td>45231</td>\n",
       "        <td>1026</td>\n",
       "        <td>725</td>\n",
       "        <td>120</td>\n",
       "    </tr>\n",
       "    <tr>\n",
       "        <td>1575</td>\n",
       "        <td>1000.00</td>\n",
       "        <td>398892.99</td>\n",
       "        <td>10000.00</td>\n",
       "        <td>0.00</td>\n",
       "        <td>0.00</td>\n",
       "        <td>0.00</td>\n",
       "        <td>None</td>\n",
       "        <td>9095</td>\n",
       "        <td>14769</td>\n",
       "        <td>1026</td>\n",
       "        <td>725</td>\n",
       "        <td>120</td>\n",
       "    </tr>\n",
       "    <tr>\n",
       "        <td>96000</td>\n",
       "        <td>1000.00</td>\n",
       "        <td>398892.99</td>\n",
       "        <td>10000.00</td>\n",
       "        <td>0.00</td>\n",
       "        <td>0.00</td>\n",
       "        <td>0.00</td>\n",
       "        <td>None</td>\n",
       "        <td>9095</td>\n",
       "        <td>45231</td>\n",
       "        <td>1026</td>\n",
       "        <td>725</td>\n",
       "        <td>120</td>\n",
       "    </tr>\n",
       "    <tr>\n",
       "        <td>2730</td>\n",
       "        <td>1000.00</td>\n",
       "        <td>398892.99</td>\n",
       "        <td>10000.00</td>\n",
       "        <td>0.00</td>\n",
       "        <td>0.00</td>\n",
       "        <td>0.00</td>\n",
       "        <td>None</td>\n",
       "        <td>9095</td>\n",
       "        <td>14769</td>\n",
       "        <td>1026</td>\n",
       "        <td>725</td>\n",
       "        <td>120</td>\n",
       "    </tr>\n",
       "</table>"
      ],
      "text/plain": [
       "[(Decimal('29500'), Decimal('1000.00'), Decimal('398892.99'), Decimal('10000.00'), Decimal('0.00'), Decimal('0.00'), Decimal('0.00'), None, 9095, 15090, 1026, 725, 120),\n",
       " (Decimal('62300'), Decimal('1000.00'), Decimal('398892.99'), Decimal('10000.00'), Decimal('0.00'), Decimal('0.00'), Decimal('0.00'), None, 9095, 45231, 1026, 725, 120),\n",
       " (Decimal('1575'), Decimal('1000.00'), Decimal('398892.99'), Decimal('10000.00'), Decimal('0.00'), Decimal('0.00'), Decimal('0.00'), None, 9095, 14769, 1026, 725, 120),\n",
       " (Decimal('96000'), Decimal('1000.00'), Decimal('398892.99'), Decimal('10000.00'), Decimal('0.00'), Decimal('0.00'), Decimal('0.00'), None, 9095, 45231, 1026, 725, 120),\n",
       " (Decimal('2730'), Decimal('1000.00'), Decimal('398892.99'), Decimal('10000.00'), Decimal('0.00'), Decimal('0.00'), Decimal('0.00'), None, 9095, 14769, 1026, 725, 120)]"
      ]
     },
     "execution_count": 118,
     "metadata": {},
     "output_type": "execute_result"
    }
   ],
   "source": [
    "%%sql\n",
    "SELECT *\n",
    "FROM election2020\n",
    "LIMIT 5"
   ]
  },
  {
   "cell_type": "markdown",
   "metadata": {},
   "source": [
    "## -----------------Q & A-----------------"
   ]
  },
  {
   "cell_type": "markdown",
   "metadata": {},
   "source": [
    "#### Q1(Seungheon Han): the results of the presidential elections in the US usually rely on decisions of toss-up states. In addition, the possibility of leaning states supporting the opponent party raises the tension of the elections. Therefore, it can be significant to explore the potential factors that enable us to predict which state will finally support which party. In this regard, the Q1 is expected to help us discern the influences of the amount of transactions between political committees and candidates on the final results in leaning and swing states."
   ]
  },
  {
   "cell_type": "markdown",
   "metadata": {},
   "source": [
    "## Q1: The total amount of transactions (the sum of absolute values) occurring between committees and candidates affiliated to either democratic or republican party by states in 2020"
   ]
  },
  {
   "cell_type": "markdown",
   "metadata": {},
   "source": [
    "### Answer:"
   ]
  },
  {
   "cell_type": "code",
   "execution_count": 119,
   "metadata": {},
   "outputs": [
    {
     "name": "stdout",
     "output_type": "stream",
     "text": [
      " * postgresql://student@/final\n",
      "26 rows affected.\n"
     ]
    },
    {
     "data": {
      "text/html": [
       "<table>\n",
       "    <tr>\n",
       "        <th>cmte_state</th>\n",
       "        <th>cand_party</th>\n",
       "        <th>total_transactions</th>\n",
       "    </tr>\n",
       "    <tr>\n",
       "        <td>AZ</td>\n",
       "        <td>DEM</td>\n",
       "        <td>15000</td>\n",
       "    </tr>\n",
       "    <tr>\n",
       "        <td>AZ</td>\n",
       "        <td>REP</td>\n",
       "        <td>29500</td>\n",
       "    </tr>\n",
       "    <tr>\n",
       "        <td>CO</td>\n",
       "        <td>DEM</td>\n",
       "        <td>1500</td>\n",
       "    </tr>\n",
       "    <tr>\n",
       "        <td>CO</td>\n",
       "        <td>REP</td>\n",
       "        <td>5000</td>\n",
       "    </tr>\n",
       "    <tr>\n",
       "        <td>FL</td>\n",
       "        <td>DEM</td>\n",
       "        <td>7500</td>\n",
       "    </tr>\n",
       "    <tr>\n",
       "        <td>FL</td>\n",
       "        <td>REP</td>\n",
       "        <td>51000</td>\n",
       "    </tr>\n",
       "    <tr>\n",
       "        <td>GA</td>\n",
       "        <td>DEM</td>\n",
       "        <td>14000</td>\n",
       "    </tr>\n",
       "    <tr>\n",
       "        <td>GA</td>\n",
       "        <td>REP</td>\n",
       "        <td>39000</td>\n",
       "    </tr>\n",
       "    <tr>\n",
       "        <td>IA</td>\n",
       "        <td>DEM</td>\n",
       "        <td>27500</td>\n",
       "    </tr>\n",
       "    <tr>\n",
       "        <td>IA</td>\n",
       "        <td>REP</td>\n",
       "        <td>53000</td>\n",
       "    </tr>\n",
       "    <tr>\n",
       "        <td>MI</td>\n",
       "        <td>DEM</td>\n",
       "        <td>42500</td>\n",
       "    </tr>\n",
       "    <tr>\n",
       "        <td>MI</td>\n",
       "        <td>REP</td>\n",
       "        <td>14500</td>\n",
       "    </tr>\n",
       "    <tr>\n",
       "        <td>MN</td>\n",
       "        <td>DEM</td>\n",
       "        <td>1000</td>\n",
       "    </tr>\n",
       "    <tr>\n",
       "        <td>MN</td>\n",
       "        <td>REP</td>\n",
       "        <td>30298</td>\n",
       "    </tr>\n",
       "    <tr>\n",
       "        <td>NC</td>\n",
       "        <td>DEM</td>\n",
       "        <td>17500</td>\n",
       "    </tr>\n",
       "    <tr>\n",
       "        <td>NC</td>\n",
       "        <td>REP</td>\n",
       "        <td>25500</td>\n",
       "    </tr>\n",
       "    <tr>\n",
       "        <td>NV</td>\n",
       "        <td>DEM</td>\n",
       "        <td>2000</td>\n",
       "    </tr>\n",
       "    <tr>\n",
       "        <td>NV</td>\n",
       "        <td>REP</td>\n",
       "        <td>6500</td>\n",
       "    </tr>\n",
       "    <tr>\n",
       "        <td>OH</td>\n",
       "        <td>DEM</td>\n",
       "        <td>36000</td>\n",
       "    </tr>\n",
       "    <tr>\n",
       "        <td>OH</td>\n",
       "        <td>REP</td>\n",
       "        <td>36500</td>\n",
       "    </tr>\n",
       "    <tr>\n",
       "        <td>PA</td>\n",
       "        <td>DEM</td>\n",
       "        <td>83500</td>\n",
       "    </tr>\n",
       "    <tr>\n",
       "        <td>PA</td>\n",
       "        <td>REP</td>\n",
       "        <td>7500</td>\n",
       "    </tr>\n",
       "    <tr>\n",
       "        <td>TX</td>\n",
       "        <td>DEM</td>\n",
       "        <td>184000</td>\n",
       "    </tr>\n",
       "    <tr>\n",
       "        <td>TX</td>\n",
       "        <td>REP</td>\n",
       "        <td>249835</td>\n",
       "    </tr>\n",
       "    <tr>\n",
       "        <td>WI</td>\n",
       "        <td>DEM</td>\n",
       "        <td>8500</td>\n",
       "    </tr>\n",
       "    <tr>\n",
       "        <td>WI</td>\n",
       "        <td>REP</td>\n",
       "        <td>7500</td>\n",
       "    </tr>\n",
       "</table>"
      ],
      "text/plain": [
       "[('AZ', 'DEM', Decimal('15000')),\n",
       " ('AZ', 'REP', Decimal('29500')),\n",
       " ('CO', 'DEM', Decimal('1500')),\n",
       " ('CO', 'REP', Decimal('5000')),\n",
       " ('FL', 'DEM', Decimal('7500')),\n",
       " ('FL', 'REP', Decimal('51000')),\n",
       " ('GA', 'DEM', Decimal('14000')),\n",
       " ('GA', 'REP', Decimal('39000')),\n",
       " ('IA', 'DEM', Decimal('27500')),\n",
       " ('IA', 'REP', Decimal('53000')),\n",
       " ('MI', 'DEM', Decimal('42500')),\n",
       " ('MI', 'REP', Decimal('14500')),\n",
       " ('MN', 'DEM', Decimal('1000')),\n",
       " ('MN', 'REP', Decimal('30298')),\n",
       " ('NC', 'DEM', Decimal('17500')),\n",
       " ('NC', 'REP', Decimal('25500')),\n",
       " ('NV', 'DEM', Decimal('2000')),\n",
       " ('NV', 'REP', Decimal('6500')),\n",
       " ('OH', 'DEM', Decimal('36000')),\n",
       " ('OH', 'REP', Decimal('36500')),\n",
       " ('PA', 'DEM', Decimal('83500')),\n",
       " ('PA', 'REP', Decimal('7500')),\n",
       " ('TX', 'DEM', Decimal('184000')),\n",
       " ('TX', 'REP', Decimal('249835')),\n",
       " ('WI', 'DEM', Decimal('8500')),\n",
       " ('WI', 'REP', Decimal('7500'))]"
      ]
     },
     "execution_count": 119,
     "metadata": {},
     "output_type": "execute_result"
    }
   ],
   "source": [
    "%%sql\n",
    "SELECT lc.cmte_state, cd.cand_party, sum(abs(transaction_amt)) as total_transactions\n",
    "FROM election2020 ta\n",
    "INNER JOIN location lc\n",
    "ON ta.location_key = lc.key\n",
    "INNER JOIN committee cm\n",
    "ON ta.committee_key = cm.key\n",
    "INNER JOIN candidate cd\n",
    "ON ta.candidate_key = cd.key\n",
    "INNER JOIN date dt\n",
    "ON ta.date_key = dt.key\n",
    "WHERE dt.year IN ('2020') \n",
    "GROUP BY (lc.cmte_state , cd.cand_party)\n",
    "HAVING cd.cand_party IN ('DEM', 'REP') AND lc.cmte_state IN ('MI', 'TX', 'OH', 'GA', 'AZ', 'WI', 'PA', 'NC', 'FL', 'IA', 'NV', 'CO','MN')\n",
    "ORDER BY lc.cmte_state, cd.cand_party "
   ]
  },
  {
   "cell_type": "code",
   "execution_count": 120,
   "metadata": {},
   "outputs": [
    {
     "name": "stdout",
     "output_type": "stream",
     "text": [
      " * postgresql://student@/final\n",
      "13 rows affected.\n"
     ]
    },
    {
     "data": {
      "text/html": [
       "<table>\n",
       "    <tr>\n",
       "        <th>cmte_state</th>\n",
       "        <th>cand_party</th>\n",
       "        <th>total_transactions</th>\n",
       "    </tr>\n",
       "    <tr>\n",
       "        <td>AZ</td>\n",
       "        <td>REP</td>\n",
       "        <td>29500</td>\n",
       "    </tr>\n",
       "    <tr>\n",
       "        <td>CO</td>\n",
       "        <td>REP</td>\n",
       "        <td>5000</td>\n",
       "    </tr>\n",
       "    <tr>\n",
       "        <td>FL</td>\n",
       "        <td>REP</td>\n",
       "        <td>51000</td>\n",
       "    </tr>\n",
       "    <tr>\n",
       "        <td>GA</td>\n",
       "        <td>REP</td>\n",
       "        <td>39000</td>\n",
       "    </tr>\n",
       "    <tr>\n",
       "        <td>IA</td>\n",
       "        <td>REP</td>\n",
       "        <td>53000</td>\n",
       "    </tr>\n",
       "    <tr>\n",
       "        <td>MI</td>\n",
       "        <td>DEM</td>\n",
       "        <td>42500</td>\n",
       "    </tr>\n",
       "    <tr>\n",
       "        <td>MN</td>\n",
       "        <td>REP</td>\n",
       "        <td>30298</td>\n",
       "    </tr>\n",
       "    <tr>\n",
       "        <td>NC</td>\n",
       "        <td>REP</td>\n",
       "        <td>25500</td>\n",
       "    </tr>\n",
       "    <tr>\n",
       "        <td>NV</td>\n",
       "        <td>REP</td>\n",
       "        <td>6500</td>\n",
       "    </tr>\n",
       "    <tr>\n",
       "        <td>OH</td>\n",
       "        <td>REP</td>\n",
       "        <td>36500</td>\n",
       "    </tr>\n",
       "    <tr>\n",
       "        <td>PA</td>\n",
       "        <td>DEM</td>\n",
       "        <td>83500</td>\n",
       "    </tr>\n",
       "    <tr>\n",
       "        <td>TX</td>\n",
       "        <td>REP</td>\n",
       "        <td>249835</td>\n",
       "    </tr>\n",
       "    <tr>\n",
       "        <td>WI</td>\n",
       "        <td>DEM</td>\n",
       "        <td>8500</td>\n",
       "    </tr>\n",
       "</table>"
      ],
      "text/plain": [
       "[('AZ', 'REP', Decimal('29500')),\n",
       " ('CO', 'REP', Decimal('5000')),\n",
       " ('FL', 'REP', Decimal('51000')),\n",
       " ('GA', 'REP', Decimal('39000')),\n",
       " ('IA', 'REP', Decimal('53000')),\n",
       " ('MI', 'DEM', Decimal('42500')),\n",
       " ('MN', 'REP', Decimal('30298')),\n",
       " ('NC', 'REP', Decimal('25500')),\n",
       " ('NV', 'REP', Decimal('6500')),\n",
       " ('OH', 'REP', Decimal('36500')),\n",
       " ('PA', 'DEM', Decimal('83500')),\n",
       " ('TX', 'REP', Decimal('249835')),\n",
       " ('WI', 'DEM', Decimal('8500'))]"
      ]
     },
     "execution_count": 120,
     "metadata": {},
     "output_type": "execute_result"
    }
   ],
   "source": [
    "%%sql\n",
    "SELECT * \n",
    "FROM(\n",
    "    SELECT lc.cmte_state, cd.cand_party, sum(abs(transaction_amt)) as total_transactions \n",
    "    FROM election2020 ta\n",
    "    INNER JOIN location lc\n",
    "    ON ta.location_key = lc.key\n",
    "    INNER JOIN committee cm\n",
    "    ON ta.committee_key = cm.key\n",
    "    INNER JOIN candidate cd\n",
    "    ON ta.candidate_key = cd.key\n",
    "    INNER JOIN date dt\n",
    "    ON ta.date_key = dt.key\n",
    "    WHERE dt.year = '2020' \n",
    "    GROUP BY (lc.cmte_state , cd.cand_party)\n",
    "    HAVING cd.cand_party IN ('DEM', 'REP') AND lc.cmte_state IN ('MI', 'TX', 'OH', 'GA', 'AZ', 'WI', 'PA', 'NC', 'FL', 'IA', 'NV', 'CO','MN')\n",
    "    ORDER BY lc.cmte_state, cd.cand_party) as tab\n",
    "WHERE total_transactions IN (SELECT max(total_transactions) \n",
    "                             FROM (SELECT lc.cmte_state, cd.cand_party, sum(abs(transaction_amt)) as total_transactions \n",
    "                                   FROM election2020 ta\n",
    "                                   INNER JOIN location lc\n",
    "                                   ON ta.location_key = lc.key\n",
    "                                   INNER JOIN committee cm\n",
    "                                   ON ta.committee_key = cm.key\n",
    "                                   INNER JOIN candidate cd\n",
    "                                   ON ta.candidate_key = cd.key\n",
    "                                   INNER JOIN date dt\n",
    "                                   ON ta.date_key = dt.key\n",
    "                                   WHERE dt.year = '2020'\n",
    "                                   GROUP BY (lc.cmte_state , cd.cand_party) \n",
    "                                   HAVING cd.cand_party IN ('DEM', 'REP') AND lc.cmte_state IN ('MI', 'TX', 'OH', 'GA', 'AZ', 'WI', 'PA', 'NC', 'FL', 'IA', 'NV', 'CO', 'MN')) as tab2\n",
    "                             GROUP BY cmte_state);"
   ]
  },
  {
   "cell_type": "markdown",
   "metadata": {},
   "source": [
    "#### * Electoral States (Forecaste & Result): these databases will be used for visualization"
   ]
  },
  {
   "cell_type": "markdown",
   "metadata": {},
   "source": [
    "* forecaste map (source: CNN)"
   ]
  },
  {
   "cell_type": "code",
   "execution_count": 51,
   "metadata": {},
   "outputs": [
    {
     "name": "stdout",
     "output_type": "stream",
     "text": [
      " * postgresql://student@/final\n",
      "Done.\n",
      "Done.\n"
     ]
    },
    {
     "data": {
      "text/plain": [
       "[]"
      ]
     },
     "execution_count": 51,
     "metadata": {},
     "output_type": "execute_result"
    }
   ],
   "source": [
    "%%sql\n",
    "DROP TABLE IF EXISTS forecast_map;\n",
    "\n",
    "CREATE TABLE forecast_map(\n",
    "states VARCHAR(2) UNIQUE NOT NULL,\n",
    "support VARCHAR(7) NOT NULL\n",
    ");"
   ]
  },
  {
   "cell_type": "code",
   "execution_count": 52,
   "metadata": {},
   "outputs": [
    {
     "name": "stdout",
     "output_type": "stream",
     "text": [
      " * postgresql://student@/final\n",
      "51 rows affected.\n"
     ]
    },
    {
     "data": {
      "text/plain": [
       "[]"
      ]
     },
     "execution_count": 52,
     "metadata": {},
     "output_type": "execute_result"
    }
   ],
   "source": [
    "%%sql\n",
    "INSERT INTO forecast_map\n",
    "VALUES\n",
    "('AK', 'REP'),\n",
    "('AL', 'REP'),\n",
    "('AR', 'REP'),\n",
    "('AZ', 'TOSSUP'),\n",
    "('CA', 'DEM'),\n",
    "('CO', 'LEANDEM'),\n",
    "('CT', 'DEM'),\n",
    "('DE', 'DEM'),\n",
    "('DC', 'DEM'),\n",
    "('FL', 'TOSSUP'),\n",
    "('GA', 'TOSSUP'),\n",
    "('HI', 'DEM'),\n",
    "('IA', 'TOSSUP'),\n",
    "('ID', 'REP'),\n",
    "('IL', 'DEM'),\n",
    "('IN', 'REP'),\n",
    "('KS', 'REP'),\n",
    "('KY', 'REP'),\n",
    "('LA', 'REP'),\n",
    "('MA', 'DEM'),\n",
    "('MD', 'DEM'),\n",
    "('ME', 'DEM'),\n",
    "('MI', 'LEANDEM'),\n",
    "('MN', 'LEANDEM'),\n",
    "('MO', 'REP'),\n",
    "('MS', 'REP'),\n",
    "('MT', 'REP'),\n",
    "('NC', 'TOSSUP'),\n",
    "('ND', 'REP'),\n",
    "('NE', 'REP'),\n",
    "('NH', 'LEANDEM'),\n",
    "('NJ', 'DEM'),\n",
    "('NM', 'DEM'),\n",
    "('NV', 'LEANDEM'),\n",
    "('NY', 'DEM'),\n",
    "('OH', 'TOSSUP'),\n",
    "('OK', 'REP'),\n",
    "('OR', 'DEM'),\n",
    "('PA', 'LEANDEM'),\n",
    "('RI', 'DEM'),\n",
    "('SC', 'REP'),\n",
    "('SD', 'REP'),\n",
    "('TN', 'REP'),\n",
    "('TX', 'LEANREP'),\n",
    "('UT', 'REP'),\n",
    "('VA', 'DEM'),\n",
    "('VT', 'DEM'),\n",
    "('WA', 'DEM'),\n",
    "('WI', 'LEANDEM'),\n",
    "('WV', 'REP'),\n",
    "('WY', 'REP');"
   ]
  },
  {
   "cell_type": "markdown",
   "metadata": {},
   "source": [
    "* result map (source: CNN)"
   ]
  },
  {
   "cell_type": "code",
   "execution_count": 53,
   "metadata": {},
   "outputs": [
    {
     "name": "stdout",
     "output_type": "stream",
     "text": [
      " * postgresql://student@/final\n",
      "Done.\n",
      "Done.\n"
     ]
    },
    {
     "data": {
      "text/plain": [
       "[]"
      ]
     },
     "execution_count": 53,
     "metadata": {},
     "output_type": "execute_result"
    }
   ],
   "source": [
    "%%sql\n",
    "DROP TABLE IF EXISTS result_map;\n",
    "\n",
    "CREATE TABLE result_map(\n",
    "states VARCHAR(2) UNIQUE NOT NULL,\n",
    "support VARCHAR(7) NOT NULL\n",
    ");"
   ]
  },
  {
   "cell_type": "code",
   "execution_count": 54,
   "metadata": {},
   "outputs": [
    {
     "name": "stdout",
     "output_type": "stream",
     "text": [
      " * postgresql://student@/final\n",
      "51 rows affected.\n"
     ]
    },
    {
     "data": {
      "text/plain": [
       "[]"
      ]
     },
     "execution_count": 54,
     "metadata": {},
     "output_type": "execute_result"
    }
   ],
   "source": [
    "%%sql\n",
    "INSERT INTO result_map\n",
    "VALUES\n",
    "('AK', 'REP'),\n",
    "('AL', 'REP'),\n",
    "('AR', 'REP'),\n",
    "('AZ', 'DEM'),\n",
    "('CA', 'DEM'),\n",
    "('CO', 'DEM'),\n",
    "('CT', 'DEM'),\n",
    "('DE', 'DEM'),\n",
    "('DC', 'DEM'),\n",
    "('FL', 'REP'),\n",
    "('GA', 'DEM'),\n",
    "('HI', 'DEM'),\n",
    "('IA', 'REP'),\n",
    "('ID', 'REP'),\n",
    "('IL', 'DEM'),\n",
    "('IN', 'REP'),\n",
    "('KS', 'REP'),\n",
    "('KY', 'REP'),\n",
    "('LA', 'REP'),\n",
    "('MA', 'DEM'),\n",
    "('MD', 'DEM'),\n",
    "('ME', 'DEM'),\n",
    "('MI', 'DEM'),\n",
    "('MN', 'DEM'),\n",
    "('MO', 'REP'),\n",
    "('MS', 'REP'),\n",
    "('MT', 'REP'),\n",
    "('NC', 'REP'),\n",
    "('ND', 'REP'),\n",
    "('NE', 'REP'),\n",
    "('NH', 'DEM'),\n",
    "('NJ', 'DEM'),\n",
    "('NM', 'DEM'),\n",
    "('NV', 'DEM'),\n",
    "('NY', 'DEM'),\n",
    "('OH', 'REP'),\n",
    "('OK', 'REP'),\n",
    "('OR', 'DEM'),\n",
    "('PA', 'DEM'),\n",
    "('RI', 'DEM'),\n",
    "('SC', 'REP'),\n",
    "('SD', 'REP'),\n",
    "('TN', 'REP'),\n",
    "('TX', 'REP'),\n",
    "('UT', 'REP'),\n",
    "('VA', 'DEM'),\n",
    "('VT', 'DEM'),\n",
    "('WA', 'DEM'),\n",
    "('WI', 'DEM'),\n",
    "('WV', 'REP'),\n",
    "('WY', 'REP');"
   ]
  },
  {
   "cell_type": "markdown",
   "metadata": {},
   "source": [
    "#### * define database names for the resulting dataset to export them "
   ]
  },
  {
   "cell_type": "code",
   "execution_count": 55,
   "metadata": {},
   "outputs": [
    {
     "name": "stdout",
     "output_type": "stream",
     "text": [
      " * postgresql://student@/final\n",
      "Done.\n",
      "Done.\n"
     ]
    },
    {
     "data": {
      "text/plain": [
       "[]"
      ]
     },
     "execution_count": 55,
     "metadata": {},
     "output_type": "execute_result"
    }
   ],
   "source": [
    "%%sql\n",
    "DROP VIEW IF EXISTS first_df;\n",
    "\n",
    "CREATE VIEW first_df AS\n",
    "SELECT lc.cmte_state, cd.cand_party, sum(abs(transaction_amt)) as total_transactions\n",
    "FROM election2020 ta\n",
    "INNER JOIN location lc\n",
    "ON ta.location_key = lc.key\n",
    "INNER JOIN committee cm\n",
    "ON ta.committee_key = cm.key\n",
    "INNER JOIN candidate cd\n",
    "ON ta.candidate_key = cd.key\n",
    "INNER JOIN date dt\n",
    "ON ta.date_key = dt.key\n",
    "WHERE dt.year IN ('2020') \n",
    "GROUP BY (lc.cmte_state , cd.cand_party)\n",
    "HAVING cd.cand_party IN ('DEM', 'REP') AND lc.cmte_state IN  ('MI', 'TX', 'OH', 'GA', 'AZ', 'WI', 'PA', 'NC', 'FL', 'IA', 'NV', 'CO', 'MN')\n",
    "ORDER BY lc.cmte_state, cd.cand_party;"
   ]
  },
  {
   "cell_type": "code",
   "execution_count": 56,
   "metadata": {},
   "outputs": [
    {
     "name": "stdout",
     "output_type": "stream",
     "text": [
      " * postgresql://student@/final\n",
      "26 rows affected.\n"
     ]
    }
   ],
   "source": [
    "df1 = %sql SELECT * FROM first_df;"
   ]
  },
  {
   "cell_type": "code",
   "execution_count": 57,
   "metadata": {},
   "outputs": [
    {
     "name": "stdout",
     "output_type": "stream",
     "text": [
      " * postgresql://student@/final\n",
      "Done.\n",
      "Done.\n"
     ]
    },
    {
     "data": {
      "text/plain": [
       "[]"
      ]
     },
     "execution_count": 57,
     "metadata": {},
     "output_type": "execute_result"
    }
   ],
   "source": [
    "%%sql\n",
    "DROP VIEW IF EXISTS second_df;\n",
    "\n",
    "CREATE VIEW second_df AS\n",
    "SELECT * \n",
    "FROM(\n",
    "    SELECT lc.cmte_state, cd.cand_party, sum(abs(transaction_amt)) as total_transactions \n",
    "    FROM election2020 ta\n",
    "    INNER JOIN location lc\n",
    "    ON ta.location_key = lc.key\n",
    "    INNER JOIN committee cm\n",
    "    ON ta.committee_key = cm.key\n",
    "    INNER JOIN candidate cd\n",
    "    ON ta.candidate_key = cd.key\n",
    "    INNER JOIN date dt\n",
    "    ON ta.date_key = dt.key\n",
    "    WHERE dt.year = '2020'\n",
    "    GROUP BY (lc.cmte_state , cd.cand_party)\n",
    "    HAVING cd.cand_party IN ('DEM', 'REP') AND lc.cmte_state IN  ('MI', 'TX', 'OH', 'GA', 'AZ', 'WI', 'PA', 'NC', 'FL', 'IA', 'NV', 'CO', 'MN')\n",
    "    ORDER BY lc.cmte_state, cd.cand_party) as tab\n",
    "WHERE total_transactions IN (SELECT max(total_transactions) \n",
    "                             FROM (SELECT lc.cmte_state, cd.cand_party, sum(abs(transaction_amt)) as total_transactions \n",
    "                                   FROM election2020 ta\n",
    "                                   INNER JOIN location lc\n",
    "                                   ON ta.location_key = lc.key\n",
    "                                   INNER JOIN committee cm\n",
    "                                   ON ta.committee_key = cm.key\n",
    "                                   INNER JOIN candidate cd\n",
    "                                   ON ta.candidate_key = cd.key\n",
    "                                   INNER JOIN date dt\n",
    "                                   ON ta.date_key = dt.key\n",
    "                                   WHERE dt.year = '2020' \n",
    "                                   GROUP BY (lc.cmte_state , cd.cand_party)\n",
    "                                   HAVING cd.cand_party IN ('DEM', 'REP') AND lc.cmte_state IN  ('MI', 'TX', 'OH', 'GA', 'AZ', 'WI', 'PA', 'NC', 'FL', 'IA', 'NV', 'CO', 'MN')) as tab2\n",
    "                             GROUP BY cmte_state);"
   ]
  },
  {
   "cell_type": "code",
   "execution_count": 58,
   "metadata": {},
   "outputs": [
    {
     "name": "stdout",
     "output_type": "stream",
     "text": [
      " * postgresql://student@/final\n",
      "13 rows affected.\n"
     ]
    }
   ],
   "source": [
    "df2 = %sql SELECT * FROM second_df;"
   ]
  },
  {
   "cell_type": "markdown",
   "metadata": {},
   "source": [
    "* forecast_map"
   ]
  },
  {
   "cell_type": "code",
   "execution_count": 59,
   "metadata": {},
   "outputs": [
    {
     "name": "stdout",
     "output_type": "stream",
     "text": [
      " * postgresql://student@/final\n",
      "Done.\n",
      "Done.\n"
     ]
    },
    {
     "data": {
      "text/plain": [
       "[]"
      ]
     },
     "execution_count": 59,
     "metadata": {},
     "output_type": "execute_result"
    }
   ],
   "source": [
    "%%sql\n",
    "DROP VIEW IF EXISTS forecast_df;\n",
    "\n",
    "CREATE VIEW forecast_df AS\n",
    "SELECT *\n",
    "FROM forecast_map"
   ]
  },
  {
   "cell_type": "code",
   "execution_count": 60,
   "metadata": {},
   "outputs": [
    {
     "name": "stdout",
     "output_type": "stream",
     "text": [
      " * postgresql://student@/final\n",
      "51 rows affected.\n"
     ]
    }
   ],
   "source": [
    "fore_df = %sql SELECT * FROM forecast_df;"
   ]
  },
  {
   "cell_type": "markdown",
   "metadata": {},
   "source": [
    "* result_map"
   ]
  },
  {
   "cell_type": "code",
   "execution_count": 61,
   "metadata": {},
   "outputs": [
    {
     "name": "stdout",
     "output_type": "stream",
     "text": [
      " * postgresql://student@/final\n",
      "Done.\n",
      "Done.\n"
     ]
    },
    {
     "data": {
      "text/plain": [
       "[]"
      ]
     },
     "execution_count": 61,
     "metadata": {},
     "output_type": "execute_result"
    }
   ],
   "source": [
    "%%sql\n",
    "DROP VIEW IF EXISTS result_df;\n",
    "\n",
    "CREATE VIEW result_df AS\n",
    "SELECT *\n",
    "FROM result_map"
   ]
  },
  {
   "cell_type": "code",
   "execution_count": 62,
   "metadata": {},
   "outputs": [
    {
     "name": "stdout",
     "output_type": "stream",
     "text": [
      " * postgresql://student@/final\n",
      "51 rows affected.\n"
     ]
    }
   ],
   "source": [
    "result_df = %sql SELECT * FROM result_df;"
   ]
  },
  {
   "cell_type": "markdown",
   "metadata": {},
   "source": [
    "* result map for the only interesting states"
   ]
  },
  {
   "cell_type": "code",
   "execution_count": 63,
   "metadata": {},
   "outputs": [
    {
     "name": "stdout",
     "output_type": "stream",
     "text": [
      " * postgresql://student@/final\n",
      "Done.\n",
      "Done.\n"
     ]
    },
    {
     "data": {
      "text/plain": [
       "[]"
      ]
     },
     "execution_count": 63,
     "metadata": {},
     "output_type": "execute_result"
    }
   ],
   "source": [
    "%%sql\n",
    "DROP VIEW IF EXISTS inter_df;\n",
    "\n",
    "CREATE VIEW inter_df AS\n",
    "SELECT *\n",
    "FROM result_map\n",
    "WHERE states IN  ('MI', 'TX', 'OH', 'GA', 'AZ', 'WI', 'PA', 'NC', 'FL', 'IA', 'NV', 'CO', 'MN')"
   ]
  },
  {
   "cell_type": "code",
   "execution_count": 64,
   "metadata": {},
   "outputs": [
    {
     "name": "stdout",
     "output_type": "stream",
     "text": [
      " * postgresql://student@/final\n",
      "13 rows affected.\n"
     ]
    }
   ],
   "source": [
    "inter_df = %sql SELECT * FROM inter_df;"
   ]
  },
  {
   "cell_type": "markdown",
   "metadata": {},
   "source": [
    "#### * Export the databases (For working on Tableau)"
   ]
  },
  {
   "cell_type": "code",
   "execution_count": 65,
   "metadata": {},
   "outputs": [],
   "source": [
    "import pandas as pd"
   ]
  },
  {
   "cell_type": "code",
   "execution_count": 66,
   "metadata": {},
   "outputs": [],
   "source": [
    "df1_pd = pd.DataFrame(df1, columns = (\"states\", \"party\", \"total_transaction\"))\n",
    "df1_pd.to_csv('df1.csv')"
   ]
  },
  {
   "cell_type": "code",
   "execution_count": 67,
   "metadata": {},
   "outputs": [],
   "source": [
    "df2_pd = pd.DataFrame(df2, columns = (\"states\", \"party\", \"total_transaction\"))\n",
    "df2_pd.to_csv('df2.csv')"
   ]
  },
  {
   "cell_type": "code",
   "execution_count": 68,
   "metadata": {},
   "outputs": [],
   "source": [
    "fore_pd = pd.DataFrame(fore_df, columns = (\"states\", \"support\"))\n",
    "fore_pd.to_csv('fore_df.csv')"
   ]
  },
  {
   "cell_type": "code",
   "execution_count": 69,
   "metadata": {},
   "outputs": [],
   "source": [
    "result_pd = pd.DataFrame(result_df, columns = (\"states\", \"support\"))\n",
    "result_pd.to_csv('result_df.csv')"
   ]
  },
  {
   "cell_type": "code",
   "execution_count": 70,
   "metadata": {},
   "outputs": [],
   "source": [
    "inter_pd = pd.DataFrame(inter_df, columns = (\"states\", \"support\"))\n",
    "inter_pd.to_csv('inter_df.csv')"
   ]
  },
  {
   "cell_type": "markdown",
   "metadata": {},
   "source": [
    "### * Visualization"
   ]
  },
  {
   "cell_type": "markdown",
   "metadata": {},
   "source": [
    "### 1) the 2020 electoral college map published by CNN before ballot"
   ]
  },
  {
   "cell_type": "code",
   "execution_count": 135,
   "metadata": {},
   "outputs": [],
   "source": [
    "from IPython.display import Image"
   ]
  },
  {
   "cell_type": "code",
   "execution_count": 66,
   "metadata": {},
   "outputs": [
    {
     "data": {
      "text/html": [
       "<img src=\"https://final6212.s3.amazonaws.com/visual_alex/fore.png\"/>"
      ],
      "text/plain": [
       "<IPython.core.display.Image object>"
      ]
     },
     "execution_count": 66,
     "metadata": {},
     "output_type": "execute_result"
    }
   ],
   "source": [
    "Image(url=\"https://final6212.s3.amazonaws.com/visual_alex/fore.png\")"
   ]
  },
  {
   "cell_type": "markdown",
   "metadata": {},
   "source": [
    "### -> the skyblue and pink states represent the leans-democratic and leans-republican states respectively. Toss-up (swing) states are colored gray."
   ]
  },
  {
   "cell_type": "markdown",
   "metadata": {},
   "source": [
    "### 2) This shows which party made bigger amount of transactions with committies by states in 2020"
   ]
  },
  {
   "cell_type": "code",
   "execution_count": 67,
   "metadata": {},
   "outputs": [
    {
     "data": {
      "text/html": [
       "<img src=\"https://final6212.s3.amazonaws.com/visual_alex/transaction_map2.png\"/>"
      ],
      "text/plain": [
       "<IPython.core.display.Image object>"
      ]
     },
     "execution_count": 67,
     "metadata": {},
     "output_type": "execute_result"
    }
   ],
   "source": [
    "Image(url=\"https://final6212.s3.amazonaws.com/visual_alex/transaction_map2.png\")"
   ]
  },
  {
   "cell_type": "markdown",
   "metadata": {},
   "source": [
    "### 3) The comparison between the final supporting parties predicted by the amount of transactions among committees and candidates and the actual results"
   ]
  },
  {
   "cell_type": "code",
   "execution_count": 68,
   "metadata": {},
   "outputs": [
    {
     "data": {
      "text/html": [
       "<img src=\"https://final6212.s3.amazonaws.com/visual_alex/comparison2.png\"/>"
      ],
      "text/plain": [
       "<IPython.core.display.Image object>"
      ]
     },
     "execution_count": 68,
     "metadata": {},
     "output_type": "execute_result"
    }
   ],
   "source": [
    "Image(url=\"https://final6212.s3.amazonaws.com/visual_alex/comparison2.png\")"
   ]
  },
  {
   "cell_type": "markdown",
   "metadata": {},
   "source": [
    "### -> Despite the number of data lost during the table connection, a 62% (8/13) of the leaning and swing states are correctly predicted. "
   ]
  },
  {
   "cell_type": "markdown",
   "metadata": {},
   "source": [
    "## Q2(weike):from our dataset, it will be interesting to look at transaction amount >0 VS transaction amount <0, we believe Transaction AMT>0 is good enough by count for each state and city, and we also want to know why there is a problem with which city and state has transaction amount less than 0. "
   ]
  },
  {
   "cell_type": "code",
   "execution_count": 121,
   "metadata": {},
   "outputs": [
    {
     "name": "stdout",
     "output_type": "stream",
     "text": [
      " * postgresql://student@/final\n",
      "Done.\n",
      "197 rows affected.\n"
     ]
    },
    {
     "data": {
      "text/plain": [
       "[]"
      ]
     },
     "execution_count": 121,
     "metadata": {},
     "output_type": "execute_result"
    }
   ],
   "source": [
    "%%sql\n",
    "DROP TABLE IF EXISTS TM cascade;\n",
    "\n",
    "CREATE TABLE TM AS\n",
    "SELECT CMTE_CITY, cmte_state, sum(case when TRANSACTION_AMT > 0 then 1 else 0 end) as \"Transaction_greater_than_zero\", \n",
    "sum(case when TRANSACTION_AMT <0  then 1 else 0 end) as \"Transaction_less_than_zero\",\n",
    "count(*) as \"Total transaction\"\n",
    "FROM location\n",
    "JOIN election2020\n",
    "  ON location.key = election2020.location_key\n",
    "Join date\n",
    "  ON date.key = election2020.date_key\n",
    "WHERE date.year IN ('2020')\n",
    "GROUP BY  cmte_state, CMTE_CITY\n",
    ";"
   ]
  },
  {
   "cell_type": "code",
   "execution_count": 122,
   "metadata": {},
   "outputs": [
    {
     "name": "stdout",
     "output_type": "stream",
     "text": [
      " * postgresql://student@/final\n",
      "10 rows affected.\n"
     ]
    },
    {
     "data": {
      "text/html": [
       "<table>\n",
       "    <tr>\n",
       "        <th>cmte_city</th>\n",
       "        <th>cmte_state</th>\n",
       "        <th>Transaction_greater_than_zero</th>\n",
       "        <th>Transaction_less_than_zero</th>\n",
       "        <th>Total transaction</th>\n",
       "    </tr>\n",
       "    <tr>\n",
       "        <td>TRACY</td>\n",
       "        <td>CA</td>\n",
       "        <td>3</td>\n",
       "        <td>0</td>\n",
       "        <td>3</td>\n",
       "    </tr>\n",
       "    <tr>\n",
       "        <td>ESSEXVILLE</td>\n",
       "        <td>MI</td>\n",
       "        <td>1</td>\n",
       "        <td>0</td>\n",
       "        <td>1</td>\n",
       "    </tr>\n",
       "    <tr>\n",
       "        <td>TAMPA</td>\n",
       "        <td>FL</td>\n",
       "        <td>6</td>\n",
       "        <td>0</td>\n",
       "        <td>6</td>\n",
       "    </tr>\n",
       "    <tr>\n",
       "        <td>MONETA</td>\n",
       "        <td>VA</td>\n",
       "        <td>3</td>\n",
       "        <td>0</td>\n",
       "        <td>3</td>\n",
       "    </tr>\n",
       "    <tr>\n",
       "        <td>ARLINGTON HEIGHTS</td>\n",
       "        <td>IL</td>\n",
       "        <td>0</td>\n",
       "        <td>2</td>\n",
       "        <td>2</td>\n",
       "    </tr>\n",
       "    <tr>\n",
       "        <td>OMAHA</td>\n",
       "        <td>NE</td>\n",
       "        <td>38</td>\n",
       "        <td>0</td>\n",
       "        <td>38</td>\n",
       "    </tr>\n",
       "    <tr>\n",
       "        <td>ORLANDO</td>\n",
       "        <td>FL</td>\n",
       "        <td>1</td>\n",
       "        <td>0</td>\n",
       "        <td>1</td>\n",
       "    </tr>\n",
       "    <tr>\n",
       "        <td>NORTH BETHESDA</td>\n",
       "        <td>MD</td>\n",
       "        <td>14</td>\n",
       "        <td>0</td>\n",
       "        <td>14</td>\n",
       "    </tr>\n",
       "    <tr>\n",
       "        <td>PITTSBURGH</td>\n",
       "        <td>PA</td>\n",
       "        <td>20</td>\n",
       "        <td>0</td>\n",
       "        <td>20</td>\n",
       "    </tr>\n",
       "    <tr>\n",
       "        <td>GAITHERSBURG</td>\n",
       "        <td>MD</td>\n",
       "        <td>6</td>\n",
       "        <td>0</td>\n",
       "        <td>6</td>\n",
       "    </tr>\n",
       "</table>"
      ],
      "text/plain": [
       "[('TRACY', 'CA', 3, 0, 3),\n",
       " ('ESSEXVILLE', 'MI', 1, 0, 1),\n",
       " ('TAMPA', 'FL', 6, 0, 6),\n",
       " ('MONETA', 'VA', 3, 0, 3),\n",
       " ('ARLINGTON HEIGHTS', 'IL', 0, 2, 2),\n",
       " ('OMAHA', 'NE', 38, 0, 38),\n",
       " ('ORLANDO', 'FL', 1, 0, 1),\n",
       " ('NORTH BETHESDA', 'MD', 14, 0, 14),\n",
       " ('PITTSBURGH', 'PA', 20, 0, 20),\n",
       " ('GAITHERSBURG', 'MD', 6, 0, 6)]"
      ]
     },
     "execution_count": 122,
     "metadata": {},
     "output_type": "execute_result"
    }
   ],
   "source": [
    "%%sql\n",
    "SELECT *\n",
    "FROM TM\n",
    "LIMIT 10"
   ]
  },
  {
   "cell_type": "markdown",
   "metadata": {},
   "source": [
    "#### * create a the dataframe and explore to tableau to visilization of dataset."
   ]
  },
  {
   "cell_type": "code",
   "execution_count": 53,
   "metadata": {},
   "outputs": [
    {
     "name": "stdout",
     "output_type": "stream",
     "text": [
      " * postgresql://student@/final\n",
      "197 rows affected.\n"
     ]
    }
   ],
   "source": [
    "TM = %sql SELECT * FROM TM;"
   ]
  },
  {
   "cell_type": "code",
   "execution_count": 72,
   "metadata": {},
   "outputs": [],
   "source": [
    "import pandas as pd"
   ]
  },
  {
   "cell_type": "code",
   "execution_count": 79,
   "metadata": {},
   "outputs": [],
   "source": [
    "df = pd.DataFrame(TM, columns = (\"cmte_city\", \"cmte_state\", \"Trsaction_greater than_zero\",\"Transaction_less_than_zero\",\"Total transaction\"))\n",
    "df.to_csv('df.csv')"
   ]
  },
  {
   "cell_type": "markdown",
   "metadata": {},
   "source": [
    "### * visilization of the output"
   ]
  },
  {
   "cell_type": "code",
   "execution_count": 54,
   "metadata": {},
   "outputs": [],
   "source": [
    "from IPython.display import Image"
   ]
  },
  {
   "cell_type": "markdown",
   "metadata": {},
   "source": [
    "#### the total trasaction amount greater than >0, and show which state at which city people more willing to contribute to donate at election (year 2020)"
   ]
  },
  {
   "cell_type": "code",
   "execution_count": 55,
   "metadata": {},
   "outputs": [
    {
     "data": {
      "text/html": [
       "<img src=\"https://final6212.s3.amazonaws.com/red.jpeg\"/>"
      ],
      "text/plain": [
       "<IPython.core.display.Image object>"
      ]
     },
     "execution_count": 55,
     "metadata": {},
     "output_type": "execute_result"
    }
   ],
   "source": [
    "Image(url = \"https://final6212.s3.amazonaws.com/red.jpeg\") "
   ]
  },
  {
   "cell_type": "markdown",
   "metadata": {},
   "source": [
    "#### the total transaction amount is less than <0, and show at which state at which city people would like to spend thier money at election (year 2020)"
   ]
  },
  {
   "cell_type": "code",
   "execution_count": 75,
   "metadata": {},
   "outputs": [
    {
     "data": {
      "text/html": [
       "<img src=\"https://final6212.s3.amazonaws.com/blue.jpeg\"/>"
      ],
      "text/plain": [
       "<IPython.core.display.Image object>"
      ]
     },
     "execution_count": 75,
     "metadata": {},
     "output_type": "execute_result"
    }
   ],
   "source": [
    "Image(url = \"https://final6212.s3.amazonaws.com/blue.jpeg\") "
   ]
  },
  {
   "cell_type": "markdown",
   "metadata": {},
   "source": [
    "#### * from our finding, the washington DC people would like to donate and spend the most of their to election, and people from TX houstn, Los CA also willing to spend most of their money contribute to the election2020. And from newport beach CA and Englewood cliffes chicago people will also make most expenditure at the election2020. so, that's would be interesting to look at from year to year how the city and state changed from donation and spend. "
   ]
  },
  {
   "cell_type": "markdown",
   "metadata": {},
   "source": [
    "## Q3(weike): after we look at transaction amount. it would be interesting to look at which cmte design which types of orgnization has most cmte refund and what is their begining and end cashing balance."
   ]
  },
  {
   "cell_type": "code",
   "execution_count": 123,
   "metadata": {},
   "outputs": [
    {
     "name": "stdout",
     "output_type": "stream",
     "text": [
      " * postgresql://student@/final\n",
      "7 rows affected.\n"
     ]
    },
    {
     "data": {
      "text/html": [
       "<table>\n",
       "    <tr>\n",
       "        <th>org_tp</th>\n",
       "    </tr>\n",
       "    <tr>\n",
       "        <td>None</td>\n",
       "    </tr>\n",
       "    <tr>\n",
       "        <td>V</td>\n",
       "    </tr>\n",
       "    <tr>\n",
       "        <td>W</td>\n",
       "    </tr>\n",
       "    <tr>\n",
       "        <td>C</td>\n",
       "    </tr>\n",
       "    <tr>\n",
       "        <td>M</td>\n",
       "    </tr>\n",
       "    <tr>\n",
       "        <td>T</td>\n",
       "    </tr>\n",
       "    <tr>\n",
       "        <td>L</td>\n",
       "    </tr>\n",
       "</table>"
      ],
      "text/plain": [
       "[(None,), ('V',), ('W',), ('C',), ('M',), ('T',), ('L',)]"
      ]
     },
     "execution_count": 123,
     "metadata": {},
     "output_type": "execute_result"
    }
   ],
   "source": [
    "%%sql\n",
    "SELECT DISTINCT ORG_TP\n",
    "FROM committee;"
   ]
  },
  {
   "cell_type": "code",
   "execution_count": 124,
   "metadata": {},
   "outputs": [
    {
     "name": "stdout",
     "output_type": "stream",
     "text": [
      " * postgresql://student@/final\n",
      "6 rows affected.\n"
     ]
    },
    {
     "data": {
      "text/html": [
       "<table>\n",
       "    <tr>\n",
       "        <th>cmte_dsgn</th>\n",
       "    </tr>\n",
       "    <tr>\n",
       "        <td>D</td>\n",
       "    </tr>\n",
       "    <tr>\n",
       "        <td>A</td>\n",
       "    </tr>\n",
       "    <tr>\n",
       "        <td>B</td>\n",
       "    </tr>\n",
       "    <tr>\n",
       "        <td>J</td>\n",
       "    </tr>\n",
       "    <tr>\n",
       "        <td>P</td>\n",
       "    </tr>\n",
       "    <tr>\n",
       "        <td>U</td>\n",
       "    </tr>\n",
       "</table>"
      ],
      "text/plain": [
       "[('D',), ('A',), ('B',), ('J',), ('P',), ('U',)]"
      ]
     },
     "execution_count": 124,
     "metadata": {},
     "output_type": "execute_result"
    }
   ],
   "source": [
    "%%sql\n",
    "SELECT DISTINCT cmte_dsgn\n",
    "FROM committee;"
   ]
  },
  {
   "cell_type": "code",
   "execution_count": 58,
   "metadata": {},
   "outputs": [
    {
     "name": "stdout",
     "output_type": "stream",
     "text": [
      " * postgresql://student@/final\n",
      "Done.\n",
      "1281 rows affected.\n"
     ]
    },
    {
     "data": {
      "text/plain": [
       "[]"
      ]
     },
     "execution_count": 58,
     "metadata": {},
     "output_type": "execute_result"
    }
   ],
   "source": [
    "%%sql\n",
    "DROP TABLE IF EXISTS refund cascade;\n",
    "\n",
    "CREATE TABLE refund AS\n",
    "SELECT cmte_dsgn, ORG_TP, COH_BOP, COH_COP\n",
    "from election2020 ta\n",
    "    INNER JOIN committee cm\n",
    "    on ta.committee_key=cm.key\n",
    "    INNER JOIN distributed ds\n",
    "    on ta.distributed_key=ds.key\n",
    "    INNER JOIN date dt\n",
    "    ON ta.date_key = dt.key\n",
    "    WHERE dt.year = '2020'\n",
    "    GROUP BY cm.cmte_dsgn, cm.ORG_TP, ds.COH_BOP, ds.COH_COP\n",
    "    ORDER BY ds.COH_COP"
   ]
  },
  {
   "cell_type": "code",
   "execution_count": 59,
   "metadata": {},
   "outputs": [
    {
     "name": "stdout",
     "output_type": "stream",
     "text": [
      " * postgresql://student@/final\n",
      "10 rows affected.\n"
     ]
    },
    {
     "data": {
      "text/html": [
       "<table>\n",
       "    <tr>\n",
       "        <th>cmte_dsgn</th>\n",
       "        <th>org_tp</th>\n",
       "        <th>coh_bop</th>\n",
       "        <th>coh_cop</th>\n",
       "    </tr>\n",
       "    <tr>\n",
       "        <td>U</td>\n",
       "        <td>W</td>\n",
       "        <td>0.00</td>\n",
       "        <td>-954.19</td>\n",
       "    </tr>\n",
       "    <tr>\n",
       "        <td>U</td>\n",
       "        <td>W</td>\n",
       "        <td>0.00</td>\n",
       "        <td>0.00</td>\n",
       "    </tr>\n",
       "    <tr>\n",
       "        <td>B</td>\n",
       "        <td>M</td>\n",
       "        <td>0.00</td>\n",
       "        <td>1000.00</td>\n",
       "    </tr>\n",
       "    <tr>\n",
       "        <td>U</td>\n",
       "        <td>C</td>\n",
       "        <td>0.00</td>\n",
       "        <td>1000.00</td>\n",
       "    </tr>\n",
       "    <tr>\n",
       "        <td>U</td>\n",
       "        <td>C</td>\n",
       "        <td>34589.84</td>\n",
       "        <td>2424.14</td>\n",
       "    </tr>\n",
       "    <tr>\n",
       "        <td>U</td>\n",
       "        <td>M</td>\n",
       "        <td>405.00</td>\n",
       "        <td>2704.51</td>\n",
       "    </tr>\n",
       "    <tr>\n",
       "        <td>U</td>\n",
       "        <td>M</td>\n",
       "        <td>0.00</td>\n",
       "        <td>3532.12</td>\n",
       "    </tr>\n",
       "    <tr>\n",
       "        <td>U</td>\n",
       "        <td>T</td>\n",
       "        <td>0.00</td>\n",
       "        <td>4047.32</td>\n",
       "    </tr>\n",
       "    <tr>\n",
       "        <td>B</td>\n",
       "        <td>T</td>\n",
       "        <td>91518.55</td>\n",
       "        <td>4860.33</td>\n",
       "    </tr>\n",
       "    <tr>\n",
       "        <td>B</td>\n",
       "        <td>C</td>\n",
       "        <td>0.00</td>\n",
       "        <td>9083.23</td>\n",
       "    </tr>\n",
       "</table>"
      ],
      "text/plain": [
       "[('U', 'W', Decimal('0.00'), Decimal('-954.19')),\n",
       " ('U', 'W', Decimal('0.00'), Decimal('0.00')),\n",
       " ('B', 'M', Decimal('0.00'), Decimal('1000.00')),\n",
       " ('U', 'C', Decimal('0.00'), Decimal('1000.00')),\n",
       " ('U', 'C', Decimal('34589.84'), Decimal('2424.14')),\n",
       " ('U', 'M', Decimal('405.00'), Decimal('2704.51')),\n",
       " ('U', 'M', Decimal('0.00'), Decimal('3532.12')),\n",
       " ('U', 'T', Decimal('0.00'), Decimal('4047.32')),\n",
       " ('B', 'T', Decimal('91518.55'), Decimal('4860.33')),\n",
       " ('B', 'C', Decimal('0.00'), Decimal('9083.23'))]"
      ]
     },
     "execution_count": 59,
     "metadata": {},
     "output_type": "execute_result"
    }
   ],
   "source": [
    "%%sql\n",
    "SELECT *\n",
    "FROM refund\n",
    "LIMIT 10"
   ]
  },
  {
   "cell_type": "markdown",
   "metadata": {},
   "source": [
    "#### Let explore this dataset into csv and make some meaningful graph to show our result."
   ]
  },
  {
   "cell_type": "code",
   "execution_count": 60,
   "metadata": {},
   "outputs": [
    {
     "name": "stdout",
     "output_type": "stream",
     "text": [
      " * postgresql://student@/final\n",
      "1281 rows affected.\n"
     ]
    }
   ],
   "source": [
    "refund = %sql SELECT * FROM refund;"
   ]
  },
  {
   "cell_type": "code",
   "execution_count": 81,
   "metadata": {},
   "outputs": [],
   "source": [
    "import pandas as pd"
   ]
  },
  {
   "cell_type": "code",
   "execution_count": 89,
   "metadata": {},
   "outputs": [],
   "source": [
    "refund= pd.DataFrame(refund, columns = (\"cmte_dsgn\", \"org_tp\", \"coh_bop\",\"coh_cop\"))\n",
    "refund.to_csv('refund.csv')"
   ]
  },
  {
   "cell_type": "markdown",
   "metadata": {},
   "source": [
    "#### visilization about beging and ending cash to see which type of committee design has recived most of cash by comparing beginging to end cash balance. And also, for that commitee what kinds of organization belong to that committee.( use tableau) "
   ]
  },
  {
   "cell_type": "code",
   "execution_count": 61,
   "metadata": {},
   "outputs": [
    {
     "data": {
      "text/html": [
       "<img src=\"https://final6212.s3.amazonaws.com/bars.jpeg\"/>"
      ],
      "text/plain": [
       "<IPython.core.display.Image object>"
      ]
     },
     "execution_count": 61,
     "metadata": {},
     "output_type": "execute_result"
    }
   ],
   "source": [
    "Image(url = \"https://final6212.s3.amazonaws.com/bars.jpeg\") "
   ]
  },
  {
   "cell_type": "markdown",
   "metadata": {},
   "source": [
    "#### from the image 5 we know that the most popular committee type will be Lobbyist/Registrant PAC and Unauthorized, and from those 2 types of cmt design, most of people in that cmet has a job belong to Corporation or Membership organization or Trade association."
   ]
  },
  {
   "cell_type": "markdown",
   "metadata": {},
   "source": [
    "## Q3：sub-question: after we obtain result from most popular committee type, we also curious about indi refund from which cand office receive most indi refund? and also how much total_receipt did their received for the election 2020? "
   ]
  },
  {
   "cell_type": "code",
   "execution_count": 126,
   "metadata": {},
   "outputs": [
    {
     "name": "stdout",
     "output_type": "stream",
     "text": [
      " * postgresql://student@/final\n",
      "Done.\n",
      "628 rows affected.\n"
     ]
    },
    {
     "data": {
      "text/plain": [
       "[]"
      ]
     },
     "execution_count": 126,
     "metadata": {},
     "output_type": "execute_result"
    }
   ],
   "source": [
    "%%sql\n",
    "DROP TABLE IF EXISTS indi_refund cascade;\n",
    "\n",
    "CREATE TABLE indi_refund AS\n",
    "SELECT CAND_OFFICE, total_receipts, INDIV_REFUNDS\n",
    "FROM candidate\n",
    "JOIN election2020\n",
    "  ON candidate.key = election2020.candidate_key\n",
    "Join date\n",
    "  ON date.key = election2020.date_key\n",
    "WHERE date.year IN ('2020')\n",
    "GROUP BY CAND_OFFICE, total_receipts, INDIV_REFUNDS\n",
    ";"
   ]
  },
  {
   "cell_type": "code",
   "execution_count": 127,
   "metadata": {},
   "outputs": [
    {
     "name": "stdout",
     "output_type": "stream",
     "text": [
      " * postgresql://student@/final\n",
      "10 rows affected.\n"
     ]
    },
    {
     "data": {
      "text/html": [
       "<table>\n",
       "    <tr>\n",
       "        <th>cand_office</th>\n",
       "        <th>total_receipts</th>\n",
       "        <th>indiv_refunds</th>\n",
       "    </tr>\n",
       "    <tr>\n",
       "        <td>H</td>\n",
       "        <td>1789993.06</td>\n",
       "        <td>12462.00</td>\n",
       "    </tr>\n",
       "    <tr>\n",
       "        <td>H</td>\n",
       "        <td>2060353.24</td>\n",
       "        <td>27891.42</td>\n",
       "    </tr>\n",
       "    <tr>\n",
       "        <td>H</td>\n",
       "        <td>1091544.85</td>\n",
       "        <td>10143.00</td>\n",
       "    </tr>\n",
       "    <tr>\n",
       "        <td>H</td>\n",
       "        <td>2528405.58</td>\n",
       "        <td>34400.00</td>\n",
       "    </tr>\n",
       "    <tr>\n",
       "        <td>H</td>\n",
       "        <td>1933021.34</td>\n",
       "        <td>0.00</td>\n",
       "    </tr>\n",
       "    <tr>\n",
       "        <td>H</td>\n",
       "        <td>5615412.54</td>\n",
       "        <td>36253.40</td>\n",
       "    </tr>\n",
       "    <tr>\n",
       "        <td>H</td>\n",
       "        <td>599896.55</td>\n",
       "        <td>4300.00</td>\n",
       "    </tr>\n",
       "    <tr>\n",
       "        <td>H</td>\n",
       "        <td>1165084.58</td>\n",
       "        <td>8136.56</td>\n",
       "    </tr>\n",
       "    <tr>\n",
       "        <td>H</td>\n",
       "        <td>697951.45</td>\n",
       "        <td>9605.34</td>\n",
       "    </tr>\n",
       "    <tr>\n",
       "        <td>H</td>\n",
       "        <td>1850241.19</td>\n",
       "        <td>1000.00</td>\n",
       "    </tr>\n",
       "</table>"
      ],
      "text/plain": [
       "[('H', Decimal('1789993.06'), Decimal('12462.00')),\n",
       " ('H', Decimal('2060353.24'), Decimal('27891.42')),\n",
       " ('H', Decimal('1091544.85'), Decimal('10143.00')),\n",
       " ('H', Decimal('2528405.58'), Decimal('34400.00')),\n",
       " ('H', Decimal('1933021.34'), Decimal('0.00')),\n",
       " ('H', Decimal('5615412.54'), Decimal('36253.40')),\n",
       " ('H', Decimal('599896.55'), Decimal('4300.00')),\n",
       " ('H', Decimal('1165084.58'), Decimal('8136.56')),\n",
       " ('H', Decimal('697951.45'), Decimal('9605.34')),\n",
       " ('H', Decimal('1850241.19'), Decimal('1000.00'))]"
      ]
     },
     "execution_count": 127,
     "metadata": {},
     "output_type": "execute_result"
    }
   ],
   "source": [
    "%%sql\n",
    "SELECT *\n",
    "FROM indi_refund\n",
    "LIMIT 10"
   ]
  },
  {
   "cell_type": "markdown",
   "metadata": {},
   "source": [
    "#### Let explore this dataset into csv and make some meaningful graph to show our result."
   ]
  },
  {
   "cell_type": "code",
   "execution_count": 67,
   "metadata": {},
   "outputs": [
    {
     "name": "stdout",
     "output_type": "stream",
     "text": [
      " * postgresql://student@/final\n",
      "628 rows affected.\n"
     ]
    }
   ],
   "source": [
    "indi_refund = %sql SELECT * FROM indi_refund;"
   ]
  },
  {
   "cell_type": "code",
   "execution_count": 65,
   "metadata": {},
   "outputs": [],
   "source": [
    "import pandas as pd"
   ]
  },
  {
   "cell_type": "code",
   "execution_count": 68,
   "metadata": {},
   "outputs": [],
   "source": [
    "indi_refund= pd.DataFrame(indi_refund, columns = (\"cand_office\", \"total_receipts\",\"indiv_refunds\" ))\n",
    "indi_refund.to_csv('indi_refund.csv')"
   ]
  },
  {
   "cell_type": "markdown",
   "metadata": {},
   "source": [
    "#### it will be interesting to look at H = House, P = President, S = Senate, which orgnation received most indi_refund and totaL_receipts, what is the average number of that, and also how many does their received. "
   ]
  },
  {
   "cell_type": "code",
   "execution_count": 69,
   "metadata": {},
   "outputs": [
    {
     "data": {
      "text/html": [
       "<img src=\"https://final6212.s3.amazonaws.com/h_bar1.jpeg\"/>"
      ],
      "text/plain": [
       "<IPython.core.display.Image object>"
      ]
     },
     "execution_count": 69,
     "metadata": {},
     "output_type": "execute_result"
    }
   ],
   "source": [
    "Image(url = \"https://final6212.s3.amazonaws.com/h_bar1.jpeg\")"
   ]
  },
  {
   "cell_type": "code",
   "execution_count": 87,
   "metadata": {},
   "outputs": [
    {
     "data": {
      "text/html": [
       "<img src=\"https://final6212.s3.amazonaws.com/h_bar2.jpeg\"/>"
      ],
      "text/plain": [
       "<IPython.core.display.Image object>"
      ]
     },
     "execution_count": 87,
     "metadata": {},
     "output_type": "execute_result"
    }
   ],
   "source": [
    "Image(url = \"https://final6212.s3.amazonaws.com/h_bar2.jpeg\")"
   ]
  },
  {
   "cell_type": "code",
   "execution_count": 88,
   "metadata": {},
   "outputs": [
    {
     "data": {
      "text/html": [
       "<img src=\"https://final6212.s3.amazonaws.com/h_bar3.jpeg\"/>"
      ],
      "text/plain": [
       "<IPython.core.display.Image object>"
      ]
     },
     "execution_count": 88,
     "metadata": {},
     "output_type": "execute_result"
    }
   ],
   "source": [
    "Image(url = \"https://final6212.s3.amazonaws.com/h_bar3.jpeg\")"
   ]
  },
  {
   "cell_type": "markdown",
   "metadata": {},
   "source": [
    "## Q4(Yiliang Xu): What is the total liabilities that candidates hold in 2020? How does it differ to 2016?"
   ]
  },
  {
   "cell_type": "code",
   "execution_count": 128,
   "metadata": {},
   "outputs": [
    {
     "name": "stdout",
     "output_type": "stream",
     "text": [
      " * postgresql://student@/final\n",
      "10 rows affected.\n"
     ]
    },
    {
     "data": {
      "text/html": [
       "<table>\n",
       "    <tr>\n",
       "        <th>cand_name</th>\n",
       "        <th>cand_loans</th>\n",
       "        <th>other_loans</th>\n",
       "        <th>debts_owed_by</th>\n",
       "        <th>total_liabilities</th>\n",
       "    </tr>\n",
       "    <tr>\n",
       "        <td>LOEFFLER, KELLY</td>\n",
       "        <td>23000000.00</td>\n",
       "        <td>0.00</td>\n",
       "        <td>23000000.00</td>\n",
       "        <td>46000000.00</td>\n",
       "    </tr>\n",
       "    <tr>\n",
       "        <td>STEYER, TOM</td>\n",
       "        <td>23811360.38</td>\n",
       "        <td>0.00</td>\n",
       "        <td>24000.00</td>\n",
       "        <td>23835360.38</td>\n",
       "    </tr>\n",
       "    <tr>\n",
       "        <td>TRUMP, DONALD J.</td>\n",
       "        <td>0.00</td>\n",
       "        <td>0.00</td>\n",
       "        <td>11339278.62</td>\n",
       "        <td>11339278.62</td>\n",
       "    </tr>\n",
       "    <tr>\n",
       "        <td>HAGERTY, BILL</td>\n",
       "        <td>0.00</td>\n",
       "        <td>7300000.00</td>\n",
       "        <td>3300000.00</td>\n",
       "        <td>10600000.00</td>\n",
       "    </tr>\n",
       "    <tr>\n",
       "        <td>ASKAR, CASEY</td>\n",
       "        <td>3200000.00</td>\n",
       "        <td>3300000.00</td>\n",
       "        <td>3362393.52</td>\n",
       "        <td>9862393.52</td>\n",
       "    </tr>\n",
       "    <tr>\n",
       "        <td>HAMILTON, BOB</td>\n",
       "        <td>3750000.00</td>\n",
       "        <td>0.00</td>\n",
       "        <td>3751150.00</td>\n",
       "        <td>7501150.00</td>\n",
       "    </tr>\n",
       "    <tr>\n",
       "        <td>MESSNER, BRYANT &#x27;CORKY&#x27; S.</td>\n",
       "        <td>5935515.00</td>\n",
       "        <td>0.00</td>\n",
       "        <td>933491.76</td>\n",
       "        <td>6869006.76</td>\n",
       "    </tr>\n",
       "    <tr>\n",
       "        <td>ISSA, DARRELL</td>\n",
       "        <td>6050000.00</td>\n",
       "        <td>0.00</td>\n",
       "        <td>557326.51</td>\n",
       "        <td>6607326.51</td>\n",
       "    </tr>\n",
       "    <tr>\n",
       "        <td>MCSALLY, MARTHA</td>\n",
       "        <td>0.00</td>\n",
       "        <td>0.00</td>\n",
       "        <td>6290412.98</td>\n",
       "        <td>6290412.98</td>\n",
       "    </tr>\n",
       "    <tr>\n",
       "        <td>MAURO, EDDIE J</td>\n",
       "        <td>4545550.00</td>\n",
       "        <td>0.00</td>\n",
       "        <td>1620550.00</td>\n",
       "        <td>6166100.00</td>\n",
       "    </tr>\n",
       "</table>"
      ],
      "text/plain": [
       "[('LOEFFLER, KELLY', Decimal('23000000.00'), Decimal('0.00'), Decimal('23000000.00'), Decimal('46000000.00')),\n",
       " ('STEYER, TOM', Decimal('23811360.38'), Decimal('0.00'), Decimal('24000.00'), Decimal('23835360.38')),\n",
       " ('TRUMP, DONALD J.', Decimal('0.00'), Decimal('0.00'), Decimal('11339278.62'), Decimal('11339278.62')),\n",
       " ('HAGERTY, BILL', Decimal('0.00'), Decimal('7300000.00'), Decimal('3300000.00'), Decimal('10600000.00')),\n",
       " ('ASKAR, CASEY', Decimal('3200000.00'), Decimal('3300000.00'), Decimal('3362393.52'), Decimal('9862393.52')),\n",
       " ('HAMILTON, BOB', Decimal('3750000.00'), Decimal('0.00'), Decimal('3751150.00'), Decimal('7501150.00')),\n",
       " (\"MESSNER, BRYANT 'CORKY' S.\", Decimal('5935515.00'), Decimal('0.00'), Decimal('933491.76'), Decimal('6869006.76')),\n",
       " ('ISSA, DARRELL', Decimal('6050000.00'), Decimal('0.00'), Decimal('557326.51'), Decimal('6607326.51')),\n",
       " ('MCSALLY, MARTHA', Decimal('0.00'), Decimal('0.00'), Decimal('6290412.98'), Decimal('6290412.98')),\n",
       " ('MAURO, EDDIE J', Decimal('4545550.00'), Decimal('0.00'), Decimal('1620550.00'), Decimal('6166100.00'))]"
      ]
     },
     "execution_count": 128,
     "metadata": {},
     "output_type": "execute_result"
    }
   ],
   "source": [
    "%%sql\n",
    "SELECT cd.cand_name, lr.cand_loans, lr.other_loans, lr.debts_owed_by, ta.total_liabilities\n",
    "    \n",
    "FROM election2020 ta\n",
    "INNER JOIN location lc\n",
    "ON ta.location_key = lc.key\n",
    "INNER JOIN candidate cd\n",
    "ON ta.candidate_key = cd.key\n",
    "INNER JOIN loan_refund lr\n",
    "ON ta.loan_key = lr.key\n",
    "\n",
    "GROUP BY (cd.cand_name, lr.cand_loans, lr.other_loans, lr.debts_owed_by, ta.total_liabilities)\n",
    "ORDER BY ta.total_liabilities DESC\n",
    "LIMIT 10;"
   ]
  },
  {
   "cell_type": "markdown",
   "metadata": {},
   "source": [
    "#### * Export the databases (For working on Tableau)"
   ]
  },
  {
   "cell_type": "code",
   "execution_count": 71,
   "metadata": {},
   "outputs": [
    {
     "name": "stdout",
     "output_type": "stream",
     "text": [
      " * postgresql://student@/final\n",
      "Done.\n"
     ]
    },
    {
     "data": {
      "text/plain": [
       "[]"
      ]
     },
     "execution_count": 71,
     "metadata": {},
     "output_type": "execute_result"
    }
   ],
   "source": [
    "%%sql\n",
    "CREATE VIEW q3 AS\n",
    "SELECT cd.cand_name, lr.cand_loans, lr.other_loans, lr.debts_owed_by, ta.total_liabilities\n",
    "    \n",
    "FROM election2020 ta\n",
    "INNER JOIN candidate cd\n",
    "ON ta.candidate_key = cd.key\n",
    "INNER JOIN loan_refund lr\n",
    "ON ta.loan_key = lr.key\n",
    "\n",
    "GROUP BY (cd.cand_name, lr.cand_loans, lr.other_loans, lr.debts_owed_by, ta.total_liabilities)\n",
    "ORDER BY ta.total_liabilities DESC\n",
    "LIMIT 10;"
   ]
  },
  {
   "cell_type": "code",
   "execution_count": 93,
   "metadata": {},
   "outputs": [
    {
     "name": "stdout",
     "output_type": "stream",
     "text": [
      " * postgresql://student@/final\n",
      "10 rows affected.\n"
     ]
    }
   ],
   "source": [
    "liabilities = %sql SELECT * FROM q3"
   ]
  },
  {
   "cell_type": "code",
   "execution_count": 102,
   "metadata": {},
   "outputs": [],
   "source": [
    "import pandas as pd\n",
    "liabilities = pd.DataFrame(liabilities, columns = (\"Names\", \"Loans\", \"Other_loans\", \"Debts\", \"Total_amount\"))\n",
    "liabilities.to_csv(\"liabilities.csv\")"
   ]
  },
  {
   "cell_type": "markdown",
   "metadata": {},
   "source": [
    "* Using the same process, we can get the results of total liabilities that candidates hold in 2016. We will display these outcomes in visualization. "
   ]
  },
  {
   "cell_type": "code",
   "execution_count": 2,
   "metadata": {},
   "outputs": [],
   "source": [
    "from IPython.display import Image"
   ]
  },
  {
   "cell_type": "code",
   "execution_count": 3,
   "metadata": {},
   "outputs": [
    {
     "data": {
      "text/html": [
       "<img src=\"https://final6212.s3.amazonaws.com/Eloise_edit.jpeg\"/>"
      ],
      "text/plain": [
       "<IPython.core.display.Image object>"
      ]
     },
     "execution_count": 3,
     "metadata": {},
     "output_type": "execute_result"
    }
   ],
   "source": [
    "Image(url = \"https://final6212.s3.amazonaws.com/Eloise_edit.jpeg\")"
   ]
  },
  {
   "cell_type": "code",
   "execution_count": 73,
   "metadata": {},
   "outputs": [
    {
     "data": {
      "text/html": [
       "<img src=\"https://final6212.s3.amazonaws.com/graph_2020.jpg\"/>"
      ],
      "text/plain": [
       "<IPython.core.display.Image object>"
      ]
     },
     "execution_count": 73,
     "metadata": {},
     "output_type": "execute_result"
    }
   ],
   "source": [
    "Image(url = \"https://final6212.s3.amazonaws.com/graph_2020.jpg\")"
   ]
  },
  {
   "cell_type": "markdown",
   "metadata": {},
   "source": [
    "## Q5(Ding): Compared with the contributions from party committees and other political committees for Biden and Trump and their party, what can you conclude?\n",
    " \n",
    "### Sub-question: What’s the differences between the committee’s and individual contribution for Biden and Trump and their party?"
   ]
  },
  {
   "cell_type": "markdown",
   "metadata": {},
   "source": [
    "#### First, we calculate the total Contributions from other political committees\tby each person, it seem that Trump get much more contribution from other party committee than Biden, and REP candidates get more money than Rep."
   ]
  },
  {
   "cell_type": "code",
   "execution_count": 129,
   "metadata": {},
   "outputs": [
    {
     "name": "stdout",
     "output_type": "stream",
     "text": [
      " * postgresql://student@/final\n",
      "11 rows affected.\n"
     ]
    },
    {
     "data": {
      "text/html": [
       "<table>\n",
       "    <tr>\n",
       "        <th>cand_name</th>\n",
       "        <th>cand_party</th>\n",
       "        <th>total_otherscontri</th>\n",
       "    </tr>\n",
       "    <tr>\n",
       "        <td>DAINES, STEVE</td>\n",
       "        <td>REP</td>\n",
       "        <td>105974994.56</td>\n",
       "    </tr>\n",
       "    <tr>\n",
       "        <td>TILLIS, THOM R. SEN.</td>\n",
       "        <td>REP</td>\n",
       "        <td>80749489.97</td>\n",
       "    </tr>\n",
       "    <tr>\n",
       "        <td>DAVIS, RODNEY L</td>\n",
       "        <td>REP</td>\n",
       "        <td>80066930.72</td>\n",
       "    </tr>\n",
       "    <tr>\n",
       "        <td>ERNST, JONI K</td>\n",
       "        <td>REP</td>\n",
       "        <td>70763121.78</td>\n",
       "    </tr>\n",
       "    <tr>\n",
       "        <td>PERDUE, DAVID</td>\n",
       "        <td>REP</td>\n",
       "        <td>70427080.00</td>\n",
       "    </tr>\n",
       "    <tr>\n",
       "        <td>PETERS, GARY</td>\n",
       "        <td>DEM</td>\n",
       "        <td>67500609.44</td>\n",
       "    </tr>\n",
       "    <tr>\n",
       "        <td>MCSALLY, MARTHA</td>\n",
       "        <td>REP</td>\n",
       "        <td>57270339.42</td>\n",
       "    </tr>\n",
       "    <tr>\n",
       "        <td>MCCONNELL, MITCH</td>\n",
       "        <td>REP</td>\n",
       "        <td>50368465.98</td>\n",
       "    </tr>\n",
       "    <tr>\n",
       "        <td>GRAHAM, LINDSEY O.</td>\n",
       "        <td>REP</td>\n",
       "        <td>49154041.20</td>\n",
       "    </tr>\n",
       "    <tr>\n",
       "        <td>COLLINS, SUSAN M.</td>\n",
       "        <td>REP</td>\n",
       "        <td>42853062.12</td>\n",
       "    </tr>\n",
       "    <tr>\n",
       "        <td>DEFAZIO, PETER A</td>\n",
       "        <td>DEM</td>\n",
       "        <td>42671395.78</td>\n",
       "    </tr>\n",
       "</table>"
      ],
      "text/plain": [
       "[('DAINES, STEVE', 'REP', Decimal('105974994.56')),\n",
       " ('TILLIS, THOM R. SEN.', 'REP', Decimal('80749489.97')),\n",
       " ('DAVIS, RODNEY L', 'REP', Decimal('80066930.72')),\n",
       " ('ERNST, JONI K', 'REP', Decimal('70763121.78')),\n",
       " ('PERDUE, DAVID', 'REP', Decimal('70427080.00')),\n",
       " ('PETERS, GARY', 'DEM', Decimal('67500609.44')),\n",
       " ('MCSALLY, MARTHA', 'REP', Decimal('57270339.42')),\n",
       " ('MCCONNELL, MITCH', 'REP', Decimal('50368465.98')),\n",
       " ('GRAHAM, LINDSEY O.', 'REP', Decimal('49154041.20')),\n",
       " ('COLLINS, SUSAN M.', 'REP', Decimal('42853062.12')),\n",
       " ('DEFAZIO, PETER A', 'DEM', Decimal('42671395.78'))]"
      ]
     },
     "execution_count": 129,
     "metadata": {},
     "output_type": "execute_result"
    }
   ],
   "source": [
    "%%sql\n",
    "SELECT cd.cand_name, cd.cand_party, sum(other_pol_cmte_contrib) as total_otherscontri\n",
    "FROM election2020 ta\n",
    "INNER JOIN candidate cd\n",
    "ON ta.candidate_key = cd.key\n",
    "INNER JOIN date dt\n",
    "ON ta.date_key = dt.key\n",
    "WHERE dt.year IN ('2020') \n",
    "GROUP BY cd.cand_name, cd.cand_party\n",
    "HAVING cd.cand_party IN ('DEM', 'REP') \n",
    "ORDER BY total_otherscontri DESC \n",
    "limit 11;"
   ]
  },
  {
   "cell_type": "code",
   "execution_count": 75,
   "metadata": {},
   "outputs": [
    {
     "name": "stdout",
     "output_type": "stream",
     "text": [
      " * postgresql://student@/final\n",
      "Done.\n",
      "Done.\n"
     ]
    },
    {
     "data": {
      "text/plain": [
       "[]"
      ]
     },
     "execution_count": 75,
     "metadata": {},
     "output_type": "execute_result"
    }
   ],
   "source": [
    "%%sql\n",
    "DROP VIEW IF EXISTS first_df;\n",
    "\n",
    "CREATE VIEW first_df AS\n",
    "SELECT cd.cand_name, cd.cand_party, sum(other_pol_cmte_contrib) as total_otherscontri\n",
    "FROM election2020 ta\n",
    "INNER JOIN candidate cd\n",
    "ON ta.candidate_key = cd.key\n",
    "INNER JOIN date dt\n",
    "ON ta.date_key = dt.key\n",
    "WHERE dt.year IN ('2020') \n",
    "GROUP BY cd.cand_name, cd.cand_party\n",
    "HAVING cd.cand_party IN ('DEM', 'REP') \n",
    "ORDER BY total_otherscontri DESC "
   ]
  },
  {
   "cell_type": "code",
   "execution_count": 100,
   "metadata": {},
   "outputs": [
    {
     "name": "stdout",
     "output_type": "stream",
     "text": [
      " * postgresql://student@/final\n",
      "617 rows affected.\n"
     ]
    }
   ],
   "source": [
    "df1 = %sql SELECT * FROM first_df;"
   ]
  },
  {
   "cell_type": "code",
   "execution_count": null,
   "metadata": {},
   "outputs": [],
   "source": [
    "df1_pd = pd.DataFrame(df1, columns = (\"cand_name\", \"cand_party\", \"total_otherscontri\"))\n",
    "df1_pd.to_csv('total_otherscontri.csv')"
   ]
  },
  {
   "cell_type": "code",
   "execution_count": 76,
   "metadata": {},
   "outputs": [
    {
     "data": {
      "text/html": [
       "<img src=\"https://final6212.s3.amazonaws.com/Qunzhe1.jpeg\"/>"
      ],
      "text/plain": [
       "<IPython.core.display.Image object>"
      ]
     },
     "execution_count": 76,
     "metadata": {},
     "output_type": "execute_result"
    }
   ],
   "source": [
    "Image(url = \"https://final6212.s3.amazonaws.com/Qunzhe1.jpeg\")"
   ]
  },
  {
   "cell_type": "markdown",
   "metadata": {},
   "source": [
    "#### First, we calculate the total Contributions from party committees, it seem that Trump get much more contribution from other party committee than Biden, and REP candidates get more money than Rep."
   ]
  },
  {
   "cell_type": "code",
   "execution_count": 130,
   "metadata": {},
   "outputs": [
    {
     "name": "stdout",
     "output_type": "stream",
     "text": [
      " * postgresql://student@/final\n",
      "10 rows affected.\n"
     ]
    },
    {
     "data": {
      "text/html": [
       "<table>\n",
       "    <tr>\n",
       "        <th>cand_name</th>\n",
       "        <th>cand_party</th>\n",
       "        <th>total_contri</th>\n",
       "    </tr>\n",
       "    <tr>\n",
       "        <td>TUBERVILLE, THOMAS H</td>\n",
       "        <td>REP</td>\n",
       "        <td>1420500.00</td>\n",
       "    </tr>\n",
       "    <tr>\n",
       "        <td>ERNST, JONI K</td>\n",
       "        <td>REP</td>\n",
       "        <td>1192100.00</td>\n",
       "    </tr>\n",
       "    <tr>\n",
       "        <td>GRAHAM, LINDSEY O.</td>\n",
       "        <td>REP</td>\n",
       "        <td>1075200.00</td>\n",
       "    </tr>\n",
       "    <tr>\n",
       "        <td>GREENFIELD, THERESA</td>\n",
       "        <td>DEM</td>\n",
       "        <td>1054160.94</td>\n",
       "    </tr>\n",
       "    <tr>\n",
       "        <td>MCSALLY, MARTHA</td>\n",
       "        <td>REP</td>\n",
       "        <td>999222.00</td>\n",
       "    </tr>\n",
       "    <tr>\n",
       "        <td>MARSHALL, ROGER W</td>\n",
       "        <td>REP</td>\n",
       "        <td>997700.00</td>\n",
       "    </tr>\n",
       "    <tr>\n",
       "        <td>COLLINS, SUSAN M.</td>\n",
       "        <td>REP</td>\n",
       "        <td>852316.42</td>\n",
       "    </tr>\n",
       "    <tr>\n",
       "        <td>LOEFFLER, KELLY</td>\n",
       "        <td>REP</td>\n",
       "        <td>624400.00</td>\n",
       "    </tr>\n",
       "    <tr>\n",
       "        <td>CUNNINGHAM, CAL</td>\n",
       "        <td>DEM</td>\n",
       "        <td>546000.00</td>\n",
       "    </tr>\n",
       "    <tr>\n",
       "        <td>CORNYN, JOHN SEN</td>\n",
       "        <td>REP</td>\n",
       "        <td>541200.00</td>\n",
       "    </tr>\n",
       "</table>"
      ],
      "text/plain": [
       "[('TUBERVILLE, THOMAS H', 'REP', Decimal('1420500.00')),\n",
       " ('ERNST, JONI K', 'REP', Decimal('1192100.00')),\n",
       " ('GRAHAM, LINDSEY O.', 'REP', Decimal('1075200.00')),\n",
       " ('GREENFIELD, THERESA', 'DEM', Decimal('1054160.94')),\n",
       " ('MCSALLY, MARTHA', 'REP', Decimal('999222.00')),\n",
       " ('MARSHALL, ROGER W', 'REP', Decimal('997700.00')),\n",
       " ('COLLINS, SUSAN M.', 'REP', Decimal('852316.42')),\n",
       " ('LOEFFLER, KELLY', 'REP', Decimal('624400.00')),\n",
       " ('CUNNINGHAM, CAL', 'DEM', Decimal('546000.00')),\n",
       " ('CORNYN, JOHN SEN', 'REP', Decimal('541200.00'))]"
      ]
     },
     "execution_count": 130,
     "metadata": {},
     "output_type": "execute_result"
    }
   ],
   "source": [
    "%%sql\n",
    "SELECT cd.cand_name, cd.cand_party, sum(pol_pty_contrib) as total_contri\n",
    "FROM election2020 ta\n",
    "INNER JOIN candidate cd\n",
    "ON ta.candidate_key = cd.key\n",
    "INNER JOIN date dt\n",
    "ON ta.date_key = dt.key\n",
    "WHERE dt.year IN ('2020') \n",
    "GROUP BY cd.cand_name, cd.cand_party\n",
    "HAVING cd.cand_party IN ('DEM', 'REP') \n",
    "ORDER BY total_contri DESC\n",
    "limit 10;"
   ]
  },
  {
   "cell_type": "code",
   "execution_count": 131,
   "metadata": {},
   "outputs": [
    {
     "name": "stdout",
     "output_type": "stream",
     "text": [
      " * postgresql://student@/final\n",
      "Done.\n",
      "Done.\n"
     ]
    },
    {
     "data": {
      "text/plain": [
       "[]"
      ]
     },
     "execution_count": 131,
     "metadata": {},
     "output_type": "execute_result"
    }
   ],
   "source": [
    "%%sql\n",
    "DROP VIEW IF EXISTS second_df;\n",
    "\n",
    "CREATE VIEW second_df AS\n",
    "SELECT cd.cand_name, cd.cand_party, sum(pol_pty_contrib) as total_contri\n",
    "FROM election2020 ta\n",
    "INNER JOIN candidate cd\n",
    "ON ta.candidate_key = cd.key\n",
    "INNER JOIN date dt\n",
    "ON ta.date_key = dt.key\n",
    "WHERE dt.year IN ('2020') \n",
    "GROUP BY cd.cand_name, cd.cand_party\n",
    "HAVING cd.cand_party IN ('DEM', 'REP') \n",
    "ORDER BY total_contri DESC"
   ]
  },
  {
   "cell_type": "code",
   "execution_count": null,
   "metadata": {},
   "outputs": [],
   "source": [
    "df2 = %sql SELECT * FROM second_df;\n",
    "df2_pd = pd.DataFrame(df2, columns = (\"cand_name\", \"cand_party\", \"total_pol_pty_contrib\"))\n",
    "df2_pd.to_csv('total_pol_pty_contrib.csv')"
   ]
  },
  {
   "cell_type": "code",
   "execution_count": 105,
   "metadata": {},
   "outputs": [
    {
     "data": {
      "text/html": [
       "<img src=\"https://final6212.s3.amazonaws.com/Qunzhe2.jpeg\"/>"
      ],
      "text/plain": [
       "<IPython.core.display.Image object>"
      ]
     },
     "execution_count": 105,
     "metadata": {},
     "output_type": "execute_result"
    }
   ],
   "source": [
    "Image(url = \"https://final6212.s3.amazonaws.com/Qunzhe2.jpeg\")"
   ]
  },
  {
   "cell_type": "markdown",
   "metadata": {},
   "source": [
    "#### Then, we calculate the Total individual contributions for each candidate, it shows that Biden's individual contributions contribution is almost doubled than trump, but other REP candidate don't have a considerable more contribution than DEM."
   ]
  },
  {
   "cell_type": "code",
   "execution_count": 132,
   "metadata": {},
   "outputs": [
    {
     "name": "stdout",
     "output_type": "stream",
     "text": [
      " * postgresql://student@/final\n",
      "10 rows affected.\n"
     ]
    },
    {
     "data": {
      "text/html": [
       "<table>\n",
       "    <tr>\n",
       "        <th>cand_name</th>\n",
       "        <th>cand_party</th>\n",
       "        <th>ttl_indiv_contrib</th>\n",
       "    </tr>\n",
       "    <tr>\n",
       "        <td>BIDEN, JOSEPH R JR</td>\n",
       "        <td>DEM</td>\n",
       "        <td>719798548.30</td>\n",
       "    </tr>\n",
       "    <tr>\n",
       "        <td>TRUMP, DONALD J.</td>\n",
       "        <td>REP</td>\n",
       "        <td>316611498.80</td>\n",
       "    </tr>\n",
       "    <tr>\n",
       "        <td>HARRISON, JAIME</td>\n",
       "        <td>DEM</td>\n",
       "        <td>107645932.00</td>\n",
       "    </tr>\n",
       "    <tr>\n",
       "        <td>KELLY, MARK</td>\n",
       "        <td>DEM</td>\n",
       "        <td>97439121.43</td>\n",
       "    </tr>\n",
       "    <tr>\n",
       "        <td>MCGRATH, AMY</td>\n",
       "        <td>DEM</td>\n",
       "        <td>87931707.58</td>\n",
       "    </tr>\n",
       "    <tr>\n",
       "        <td>MCSALLY, MARTHA</td>\n",
       "        <td>REP</td>\n",
       "        <td>68332656.18</td>\n",
       "    </tr>\n",
       "    <tr>\n",
       "        <td>GIDEON, SARA</td>\n",
       "        <td>DEM</td>\n",
       "        <td>67402321.11</td>\n",
       "    </tr>\n",
       "    <tr>\n",
       "        <td>GRAHAM, LINDSEY O.</td>\n",
       "        <td>REP</td>\n",
       "        <td>65646689.23</td>\n",
       "    </tr>\n",
       "    <tr>\n",
       "        <td>MCCONNELL, MITCH</td>\n",
       "        <td>REP</td>\n",
       "        <td>55895508.09</td>\n",
       "    </tr>\n",
       "    <tr>\n",
       "        <td>GREENFIELD, THERESA</td>\n",
       "        <td>DEM</td>\n",
       "        <td>52970099.34</td>\n",
       "    </tr>\n",
       "</table>"
      ],
      "text/plain": [
       "[('BIDEN, JOSEPH R JR', 'DEM', Decimal('719798548.30')),\n",
       " ('TRUMP, DONALD J.', 'REP', Decimal('316611498.80')),\n",
       " ('HARRISON, JAIME', 'DEM', Decimal('107645932.00')),\n",
       " ('KELLY, MARK', 'DEM', Decimal('97439121.43')),\n",
       " ('MCGRATH, AMY', 'DEM', Decimal('87931707.58')),\n",
       " ('MCSALLY, MARTHA', 'REP', Decimal('68332656.18')),\n",
       " ('GIDEON, SARA', 'DEM', Decimal('67402321.11')),\n",
       " ('GRAHAM, LINDSEY O.', 'REP', Decimal('65646689.23')),\n",
       " ('MCCONNELL, MITCH', 'REP', Decimal('55895508.09')),\n",
       " ('GREENFIELD, THERESA', 'DEM', Decimal('52970099.34'))]"
      ]
     },
     "execution_count": 132,
     "metadata": {},
     "output_type": "execute_result"
    }
   ],
   "source": [
    "%%sql\n",
    "SELECT cd.cand_name, cd.cand_party, ta.ttl_indiv_contrib\n",
    "FROM election2020 ta\n",
    "INNER JOIN candidate cd\n",
    "ON ta.candidate_key = cd.key\n",
    "INNER JOIN date dt\n",
    "ON ta.date_key = dt.key\n",
    "WHERE dt.year IN ('2020') \n",
    "GROUP BY cd.cand_name, cd.cand_party, ta.ttl_indiv_contrib\n",
    "ORDER BY ttl_indiv_contrib DESC\n",
    "limit 10;"
   ]
  },
  {
   "cell_type": "code",
   "execution_count": 133,
   "metadata": {},
   "outputs": [
    {
     "name": "stdout",
     "output_type": "stream",
     "text": [
      " * postgresql://student@/final\n",
      "Done.\n",
      "Done.\n"
     ]
    },
    {
     "data": {
      "text/plain": [
       "[]"
      ]
     },
     "execution_count": 133,
     "metadata": {},
     "output_type": "execute_result"
    }
   ],
   "source": [
    "%%sql\n",
    "DROP VIEW IF EXISTS last_df;\n",
    "\n",
    "CREATE VIEW last_df AS\n",
    "SELECT cd.cand_name, cd.cand_party, ta.ttl_indiv_contrib\n",
    "FROM election2020 ta\n",
    "INNER JOIN candidate cd\n",
    "ON ta.candidate_key = cd.key\n",
    "INNER JOIN date dt\n",
    "ON ta.date_key = dt.key\n",
    "WHERE dt.year IN ('2020') \n",
    "GROUP BY cd.cand_name, cd.cand_party, ta.ttl_indiv_contrib\n",
    "ORDER BY ttl_indiv_contrib DESC"
   ]
  },
  {
   "cell_type": "code",
   "execution_count": 108,
   "metadata": {},
   "outputs": [
    {
     "name": "stdout",
     "output_type": "stream",
     "text": [
      " * postgresql://student@/final\n",
      "628 rows affected.\n"
     ]
    }
   ],
   "source": [
    "df3 = %sql SELECT * FROM last_df;\n",
    "df3_pd = pd.DataFrame(df3, columns = (\"cand_name\", \"cand_party\", \"ttl_indiv_contrib\"))\n",
    "df3_pd.to_csv('totalindiv.csv')"
   ]
  },
  {
   "cell_type": "code",
   "execution_count": 109,
   "metadata": {},
   "outputs": [
    {
     "data": {
      "text/html": [
       "<img src=\"https://final6212.s3.amazonaws.com/Qunzhe3.jpeg\"/>"
      ],
      "text/plain": [
       "<IPython.core.display.Image object>"
      ]
     },
     "execution_count": 109,
     "metadata": {},
     "output_type": "execute_result"
    }
   ],
   "source": [
    "Image(url = \"https://final6212.s3.amazonaws.com/Qunzhe3.jpeg\")"
   ]
  },
  {
   "cell_type": "code",
   "execution_count": 110,
   "metadata": {},
   "outputs": [
    {
     "data": {
      "text/html": [
       "<img src=\"https://final6212.s3.amazonaws.com/Qunzhe4.jpeg\"/>"
      ],
      "text/plain": [
       "<IPython.core.display.Image object>"
      ]
     },
     "execution_count": 110,
     "metadata": {},
     "output_type": "execute_result"
    }
   ],
   "source": [
    "Image(url = \"https://final6212.s3.amazonaws.com/Qunzhe4.jpeg\")"
   ]
  }
 ],
 "metadata": {
  "kernelspec": {
   "display_name": "Python 3",
   "language": "python",
   "name": "python3"
  },
  "language_info": {
   "codemirror_mode": {
    "name": "ipython",
    "version": 3
   },
   "file_extension": ".py",
   "mimetype": "text/x-python",
   "name": "python",
   "nbconvert_exporter": "python",
   "pygments_lexer": "ipython3",
   "version": "3.8.3"
  }
 },
 "nbformat": 4,
 "nbformat_minor": 4
}
